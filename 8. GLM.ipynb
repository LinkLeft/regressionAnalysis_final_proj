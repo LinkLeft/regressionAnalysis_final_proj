{
 "cells": [
  {
   "cell_type": "code",
   "execution_count": 1,
   "metadata": {
    "slideshow": {
     "slide_type": "slide"
    }
   },
   "outputs": [],
   "source": [
    "import numpy as np\n",
    "import pandas as pd\n",
    "import matplotlib.pyplot as plt\n",
    "import statsmodels.api as sm"
   ]
  },
  {
   "cell_type": "markdown",
   "metadata": {
    "slideshow": {
     "slide_type": "slide"
    }
   },
   "source": [
    "# 1. Logistic Regression"
   ]
  },
  {
   "cell_type": "code",
   "execution_count": 79,
   "metadata": {},
   "outputs": [
    {
     "data": {
      "image/png": "[encoded data removed]",
      "text/plain": [
       "<Figure size 432x288 with 1 Axes>"
      ]
     },
     "metadata": {
      "needs_background": "light"
     },
     "output_type": "display_data"
    }
   ],
   "source": [
    "## logistic function\n",
    "\n",
    "def logistic(x):                        # define the logistic function\n",
    "    return 1 / (1 + np.exp(-x))\n",
    "\n",
    "\n",
    "x_space = np.linspace(-8, 8)            # x_space is the range of x values we want to plot\n",
    "plt.plot(logistic(x_space), x_space)    # plot the logistic function\n",
    "plt.xlabel('p')                         # label the x-axis\n",
    "plt.ylabel('logit(p)')                  # label the y-axis\n",
    "plt.show()                              # show the plot"
   ]
  },
  {
   "cell_type": "code",
   "execution_count": 80,
   "metadata": {
    "slideshow": {
     "slide_type": "slide"
    }
   },
   "outputs": [],
   "source": [
    "# generate some random data\n",
    "np.random.seed(5) # set seed\n",
    "n_sample = 100    # number of samples\n",
    "a = 3.0           # slope\n",
    "b = -9.0          # intercept\n",
    "\n",
    "x = np.random.uniform(1, 5, size=n_sample)    # generate random x values\n",
    "x = np.sort(x)                                # sort the x values\n",
    "\n",
    "q = logistic(a * x + b)                       # calculate the probability\n",
    "y = np.random.binomial(n=1, p=q)              # generate random binary outcomes\n",
    "\n",
    "X, y = sm.add_constant(x), y                  # add a constant to the x values"
   ]
  },
  {
   "cell_type": "code",
   "execution_count": 81,
   "metadata": {
    "slideshow": {
     "slide_type": "slide"
    }
   },
   "outputs": [
    {
     "name": "stdout",
     "output_type": "stream",
     "text": [
      "X\n",
      " [[1.         1.00656869]\n",
      " [1.         1.00885685]\n",
      " [1.         1.04947765]\n",
      " [1.         1.08156551]\n",
      " [1.         1.09173237]]\n",
      "y\n",
      " [0 0 0 0 0 0 0 0 0 0 0 0 0 0 0 0 0 0 0 0 0 0 0 1 0 0 0 0 0 0]\n"
     ]
    }
   ],
   "source": [
    "print('X\\n', X[:5])                           # print the first 5 rows of X\n",
    "print('y\\n', y[:30])                          # print the first 30 rows of y"
   ]
  },
  {
   "cell_type": "code",
   "execution_count": 82,
   "metadata": {},
   "outputs": [
    {
     "data": {
      "image/png": "[encoded data removed]",
      "text/plain": [
       "<Figure size 432x288 with 1 Axes>"
      ]
     },
     "metadata": {
      "needs_background": "light"
     },
     "output_type": "display_data"
    }
   ],
   "source": [
    "plt.scatter(x,y)                               # plot the data\n",
    "plt.show()                                     # show the plot"
   ]
  },
  {
   "cell_type": "code",
   "execution_count": 83,
   "metadata": {
    "slideshow": {
     "slide_type": "slide"
    }
   },
   "outputs": [
    {
     "data": {
      "text/html": [
       "<table class=\"simpletable\">\n",
       "<caption>Generalized Linear Model Regression Results</caption>\n",
       "<tr>\n",
       "  <th>Dep. Variable:</th>           <td>y</td>        <th>  No. Observations:  </th>  <td>   100</td> \n",
       "</tr>\n",
       "<tr>\n",
       "  <th>Model:</th>                  <td>GLM</td>       <th>  Df Residuals:      </th>  <td>    98</td> \n",
       "</tr>\n",
       "<tr>\n",
       "  <th>Model Family:</th>        <td>Binomial</td>     <th>  Df Model:          </th>  <td>     1</td> \n",
       "</tr>\n",
       "<tr>\n",
       "  <th>Link Function:</th>         <td>logit</td>      <th>  Scale:             </th> <td>  1.0000</td>\n",
       "</tr>\n",
       "<tr>\n",
       "  <th>Method:</th>                <td>IRLS</td>       <th>  Log-Likelihood:    </th> <td> -31.508</td>\n",
       "</tr>\n",
       "<tr>\n",
       "  <th>Date:</th>            <td>Tue, 30 Apr 2024</td> <th>  Deviance:          </th> <td>  63.016</td>\n",
       "</tr>\n",
       "<tr>\n",
       "  <th>Time:</th>                <td>20:09:11</td>     <th>  Pearson chi2:      </th>  <td>  109.</td> \n",
       "</tr>\n",
       "<tr>\n",
       "  <th>No. Iterations:</th>          <td>6</td>        <th>  Pseudo R-squ. (CS):</th>  <td>0.5303</td> \n",
       "</tr>\n",
       "<tr>\n",
       "  <th>Covariance Type:</th>     <td>nonrobust</td>    <th>                     </th>     <td> </td>   \n",
       "</tr>\n",
       "</table>\n",
       "<table class=\"simpletable\">\n",
       "<tr>\n",
       "    <td></td>       <th>coef</th>     <th>std err</th>      <th>z</th>      <th>P>|z|</th>  <th>[0.025</th>    <th>0.975]</th>  \n",
       "</tr>\n",
       "<tr>\n",
       "  <th>const</th> <td>   -7.0444</td> <td>    1.385</td> <td>   -5.087</td> <td> 0.000</td> <td>   -9.758</td> <td>   -4.330</td>\n",
       "</tr>\n",
       "<tr>\n",
       "  <th>x1</th>    <td>    2.4211</td> <td>    0.465</td> <td>    5.207</td> <td> 0.000</td> <td>    1.510</td> <td>    3.332</td>\n",
       "</tr>\n",
       "</table>"
      ],
      "text/plain": [
       "<class 'statsmodels.iolib.summary.Summary'>\n",
       "\"\"\"\n",
       "                 Generalized Linear Model Regression Results                  \n",
       "==============================================================================\n",
       "Dep. Variable:                      y   No. Observations:                  100\n",
       "Model:                            GLM   Df Residuals:                       98\n",
       "Model Family:                Binomial   Df Model:                            1\n",
       "Link Function:                  logit   Scale:                          1.0000\n",
       "Method:                          IRLS   Log-Likelihood:                -31.508\n",
       "Date:                Tue, 30 Apr 2024   Deviance:                       63.016\n",
       "Time:                        20:09:11   Pearson chi2:                     109.\n",
       "No. Iterations:                     6   Pseudo R-squ. (CS):             0.5303\n",
       "Covariance Type:            nonrobust                                         \n",
       "==============================================================================\n",
       "                 coef    std err          z      P>|z|      [0.025      0.975]\n",
       "------------------------------------------------------------------------------\n",
       "const         -7.0444      1.385     -5.087      0.000      -9.758      -4.330\n",
       "x1             2.4211      0.465      5.207      0.000       1.510       3.332\n",
       "==============================================================================\n",
       "\"\"\""
      ]
     },
     "execution_count": 83,
     "metadata": {},
     "output_type": "execute_result"
    }
   ],
   "source": [
    "# Fit Logistic regression\n",
    "model = sm.GLM(y, X, family=sm.families.Binomial(link=sm.families.links.logit())).fit()  # fit the model with the logistic link function and binomial family\n",
    "model.summary()"
   ]
  },
  {
   "cell_type": "code",
   "execution_count": 84,
   "metadata": {},
   "outputs": [
    {
     "data": {
      "text/plain": [
       "array([0.00987875, 0.00993308, 0.01094838, 0.01182239, 0.01211344,\n",
       "       0.01227365, 0.01285077, 0.01366091, 0.01585859, 0.02101221,\n",
       "       0.022196  , 0.02386823, 0.02540949, 0.0279958 , 0.02808635,\n",
       "       0.0281495 , 0.03815479, 0.04351285, 0.04655328, 0.05703414,\n",
       "       0.05739638, 0.05752912, 0.06646208, 0.06777399, 0.07773856,\n",
       "       0.09470125, 0.10063488, 0.10270732, 0.10772971, 0.11414842,\n",
       "       0.12249788, 0.13396615, 0.14729298, 0.14817159, 0.18983403,\n",
       "       0.21886815, 0.22907858, 0.24474984, 0.25276551, 0.26396269,\n",
       "       0.28694598, 0.31868771, 0.34539421, 0.35166404, 0.41349503,\n",
       "       0.42599221, 0.48084991, 0.50226886, 0.51822075, 0.52662929,\n",
       "       0.53869184, 0.57911184, 0.58942208, 0.59114273, 0.59801848,\n",
       "       0.66101055, 0.66122351, 0.70241244, 0.71547301, 0.72531197,\n",
       "       0.72948848, 0.73642948, 0.76613273, 0.78600651, 0.81246093,\n",
       "       0.81681591, 0.82196104, 0.82689708, 0.82816523, 0.89606168,\n",
       "       0.92608135, 0.94235092, 0.94489871, 0.94910604, 0.95591671,\n",
       "       0.95634536, 0.95806435, 0.95884349, 0.96229151, 0.96292939,\n",
       "       0.96392832, 0.96657457, 0.97196778, 0.97361425, 0.97592918,\n",
       "       0.97826274, 0.978314  , 0.98012673, 0.98544109, 0.98624956,\n",
       "       0.98678265, 0.98727033, 0.98871792, 0.98916696, 0.99076853,\n",
       "       0.99084583, 0.99109089, 0.9911747 , 0.99247207, 0.99276687])"
      ]
     },
     "execution_count": 84,
     "metadata": {},
     "output_type": "execute_result"
    }
   ],
   "source": [
    "y_pred = model.predict(X)   # this is the predicted y \n",
    "y_pred"
   ]
  },
  {
   "cell_type": "code",
   "execution_count": 85,
   "metadata": {
    "slideshow": {
     "slide_type": "slide"
    }
   },
   "outputs": [
    {
     "data": {
      "image/png": "[encoded data removed]",
      "text/plain": [
       "<Figure size 432x288 with 1 Axes>"
      ]
     },
     "metadata": {
      "needs_background": "light"
     },
     "output_type": "display_data"
    }
   ],
   "source": [
    "idx = x.argsort()                                       # sort the x values to plot the line\n",
    "x_ord, y_pred_ord = x[idx], y_pred[idx]                 # order the x and y values with the sorted index\n",
    "plt.plot(x_ord, y_pred_ord, color='m')                  # plot the predicted probability values \n",
    "plt.scatter(x, y,  s=20, alpha=0.8)                     # plot the data\n",
    "plt.xlabel(\"X\")                                         # label the x-axis\n",
    "plt.ylabel(\"Y\")                                         # label the y-axis\n",
    "plt.axhline(y=0.5, color='green', linestyle='--')       # add a horizontal line at y=0.5\n",
    "plt.show()                                              # show the plot"
   ]
  },
  {
   "cell_type": "markdown",
   "metadata": {
    "slideshow": {
     "slide_type": "slide"
    }
   },
   "source": [
    "### Confusion Matrix"
   ]
  },
  {
   "cell_type": "code",
   "execution_count": 86,
   "metadata": {},
   "outputs": [
    {
     "data": {
      "text/plain": [
       "array([[42,  7],\n",
       "       [ 5, 46]])"
      ]
     },
     "execution_count": 86,
     "metadata": {},
     "output_type": "execute_result"
    }
   ],
   "source": [
    "from sklearn.metrics import confusion_matrix\n",
    "y_true = y                                              # true values\n",
    "y_pred_class = (y_pred > 0.5)                           # predicted values with a threshold of 0.5\n",
    "cm = confusion_matrix(y_true, y_pred_class)             # calculate the confusion matrix\n",
    "cm"
   ]
  },
  {
   "cell_type": "code",
   "execution_count": 87,
   "metadata": {},
   "outputs": [
    {
     "data": {
      "image/png": "[encoded data removed]",
      "text/plain": [
       "<Figure size 288x216 with 2 Axes>"
      ]
     },
     "metadata": {
      "needs_background": "light"
     },
     "output_type": "display_data"
    }
   ],
   "source": [
    "import seaborn as sns\n",
    "# Visualize the confusion matrix using Seaborn heatmap\n",
    "plt.figure(figsize=(4, 3))                              # set the figure size    \n",
    "sns.heatmap(cm, annot=True, fmt=\"d\", cmap='Blues')      # plot the confusion matrix\n",
    "plt.xlabel('Predicted Label')                           # label the x-axis\n",
    "plt.ylabel('True Label')                                # label the y-axis\n",
    "plt.title('Confusion Matrix')                           # add the title\n",
    "plt.show()                                              # show the plot"
   ]
  },
  {
   "cell_type": "markdown",
   "metadata": {
    "slideshow": {
     "slide_type": "slide"
    }
   },
   "source": [
    "### ROC Curve"
   ]
  },
  {
   "cell_type": "code",
   "execution_count": 88,
   "metadata": {},
   "outputs": [
    {
     "name": "stdout",
     "output_type": "stream",
     "text": [
      "auc 0.9415766306522608\n"
     ]
    }
   ],
   "source": [
    "import sklearn.metrics as metrics\n",
    "# calculate the fpr and tpr for all thresholds of the classification\n",
    "y_pred = model.predict(X)                                   # predicted probability\n",
    "fpr, tpr, threshold = metrics.roc_curve(y, y_pred)          # y_pred is the prediction probability, y is the true value\n",
    "# fpr = false positive rate = 1 - specificity\n",
    "# tpr = true positive rate = recall = sensitivity\n",
    "roc_auc = metrics.auc(fpr, tpr)                             # calculate the AUC of the ROC curve\n",
    "print('auc', roc_auc)"
   ]
  },
  {
   "cell_type": "code",
   "execution_count": null,
   "metadata": {},
   "outputs": [],
   "source": [
    "print(threshold)"
   ]
  },
  {
   "cell_type": "code",
   "execution_count": 89,
   "metadata": {
    "slideshow": {
     "slide_type": "slide"
    }
   },
   "outputs": [
    {
     "data": {
      "image/png": "[encoded data removed]",
      "text/plain": [
       "<Figure size 432x288 with 1 Axes>"
      ]
     },
     "metadata": {
      "needs_background": "light"
     },
     "output_type": "display_data"
    }
   ],
   "source": [
    "import matplotlib.pyplot as plt\n",
    "# plot the ROC curve\n",
    "plt.title('Receiver Operating Characteristic')                  # add the title\n",
    "plt.plot(fpr, tpr, 'b', label = 'AUC = %0.2f' % roc_auc)        # ROC curve is a plot of 1 - specificity and sensitivity(recall)\n",
    "plt.legend(loc = 'lower right')                                 # add the legend\n",
    "plt.plot([0, 1], [0, 1],'r--')                                  # add a diagonal line\n",
    "plt.xlim([0, 1])                                                # set the x-axis limits to [0,1]\n",
    "plt.ylim([0, 1])                                                # set the y-axis limits to [0,1]\n",
    "plt.ylabel('True Positive Rate')                                # label the y-axis\n",
    "plt.xlabel('False Positive Rate')                               # label the x-axis\n",
    "plt.show()                                                      # show the plot"
   ]
  },
  {
   "cell_type": "markdown",
   "metadata": {
    "slideshow": {
     "slide_type": "slide"
    }
   },
   "source": [
    "### F1 score"
   ]
  },
  {
   "cell_type": "code",
   "execution_count": 90,
   "metadata": {
    "scrolled": true
   },
   "outputs": [
    {
     "data": {
      "text/plain": [
       "0.8846153846153846"
      ]
     },
     "execution_count": 90,
     "metadata": {},
     "output_type": "execute_result"
    }
   ],
   "source": [
    "metrics.f1_score(y, y_pred_class)                               # F1 score. Here, y_pred_class is the predicted class"
   ]
  },
  {
   "cell_type": "markdown",
   "metadata": {
    "slideshow": {
     "slide_type": "slide"
    }
   },
   "source": [
    "## Other ways of Logistic Regression"
   ]
  },
  {
   "cell_type": "markdown",
   "metadata": {},
   "source": [
    "### 1st way"
   ]
  },
  {
   "cell_type": "code",
   "execution_count": 91,
   "metadata": {},
   "outputs": [
    {
     "name": "stdout",
     "output_type": "stream",
     "text": [
      "Optimization terminated successfully.\n",
      "         Current function value: 0.315079\n",
      "         Iterations 7\n"
     ]
    }
   ],
   "source": [
    "model = sm.Logit(y, X).fit()                                   # fit the logistic regression model with the logit link function"
   ]
  },
  {
   "cell_type": "code",
   "execution_count": 92,
   "metadata": {
    "slideshow": {
     "slide_type": "slide"
    }
   },
   "outputs": [
    {
     "data": {
      "text/html": [
       "<table class=\"simpletable\">\n",
       "<caption>Logit Regression Results</caption>\n",
       "<tr>\n",
       "  <th>Dep. Variable:</th>           <td>y</td>        <th>  No. Observations:  </th>  <td>   100</td>  \n",
       "</tr>\n",
       "<tr>\n",
       "  <th>Model:</th>                 <td>Logit</td>      <th>  Df Residuals:      </th>  <td>    98</td>  \n",
       "</tr>\n",
       "<tr>\n",
       "  <th>Method:</th>                 <td>MLE</td>       <th>  Df Model:          </th>  <td>     1</td>  \n",
       "</tr>\n",
       "<tr>\n",
       "  <th>Date:</th>            <td>Tue, 30 Apr 2024</td> <th>  Pseudo R-squ.:     </th>  <td>0.5453</td>  \n",
       "</tr>\n",
       "<tr>\n",
       "  <th>Time:</th>                <td>20:11:34</td>     <th>  Log-Likelihood:    </th> <td> -31.508</td> \n",
       "</tr>\n",
       "<tr>\n",
       "  <th>converged:</th>             <td>True</td>       <th>  LL-Null:           </th> <td> -69.295</td> \n",
       "</tr>\n",
       "<tr>\n",
       "  <th>Covariance Type:</th>     <td>nonrobust</td>    <th>  LLR p-value:       </th> <td>3.520e-18</td>\n",
       "</tr>\n",
       "</table>\n",
       "<table class=\"simpletable\">\n",
       "<tr>\n",
       "    <td></td>       <th>coef</th>     <th>std err</th>      <th>z</th>      <th>P>|z|</th>  <th>[0.025</th>    <th>0.975]</th>  \n",
       "</tr>\n",
       "<tr>\n",
       "  <th>const</th> <td>   -7.0444</td> <td>    1.385</td> <td>   -5.087</td> <td> 0.000</td> <td>   -9.758</td> <td>   -4.330</td>\n",
       "</tr>\n",
       "<tr>\n",
       "  <th>x1</th>    <td>    2.4211</td> <td>    0.465</td> <td>    5.207</td> <td> 0.000</td> <td>    1.510</td> <td>    3.332</td>\n",
       "</tr>\n",
       "</table>"
      ],
      "text/plain": [
       "<class 'statsmodels.iolib.summary.Summary'>\n",
       "\"\"\"\n",
       "                           Logit Regression Results                           \n",
       "==============================================================================\n",
       "Dep. Variable:                      y   No. Observations:                  100\n",
       "Model:                          Logit   Df Residuals:                       98\n",
       "Method:                           MLE   Df Model:                            1\n",
       "Date:                Tue, 30 Apr 2024   Pseudo R-squ.:                  0.5453\n",
       "Time:                        20:11:34   Log-Likelihood:                -31.508\n",
       "converged:                       True   LL-Null:                       -69.295\n",
       "Covariance Type:            nonrobust   LLR p-value:                 3.520e-18\n",
       "==============================================================================\n",
       "                 coef    std err          z      P>|z|      [0.025      0.975]\n",
       "------------------------------------------------------------------------------\n",
       "const         -7.0444      1.385     -5.087      0.000      -9.758      -4.330\n",
       "x1             2.4211      0.465      5.207      0.000       1.510       3.332\n",
       "==============================================================================\n",
       "\"\"\""
      ]
     },
     "execution_count": 92,
     "metadata": {},
     "output_type": "execute_result"
    }
   ],
   "source": [
    "model.summary()"
   ]
  },
  {
   "cell_type": "markdown",
   "metadata": {
    "slideshow": {
     "slide_type": "slide"
    }
   },
   "source": [
    "### 2nd way"
   ]
  },
  {
   "cell_type": "code",
   "execution_count": 93,
   "metadata": {},
   "outputs": [
    {
     "data": {
      "text/plain": [
       "array([[-7.04458208,  2.42114067]])"
      ]
     },
     "execution_count": 93,
     "metadata": {},
     "output_type": "execute_result"
    }
   ],
   "source": [
    "from sklearn.linear_model import LogisticRegression\n",
    "# sklearn output\n",
    "model = LogisticRegression(solver='lbfgs',fit_intercept = False, C = 1e9)   # set the logistic regression model with the solver as 'lbfgs', C is the inverse of regularization strength\n",
    "mdl = model.fit(X, y)                                                       # fit the model\n",
    "model.coef_                                                                 # print the coefficients"
   ]
  },
  {
   "cell_type": "markdown",
   "metadata": {
    "slideshow": {
     "slide_type": "slide"
    }
   },
   "source": [
    "# 2. Multinomial Logistic Regression"
   ]
  },
  {
   "cell_type": "code",
   "execution_count": 94,
   "metadata": {
    "slideshow": {
     "slide_type": "slide"
    }
   },
   "outputs": [
    {
     "name": "stdout",
     "output_type": "stream",
     "text": [
      "X\n",
      " [[5.1 3.5 1.4 0.2]\n",
      " [4.9 3.  1.4 0.2]\n",
      " [4.7 3.2 1.3 0.2]\n",
      " [4.6 3.1 1.5 0.2]\n",
      " [5.  3.6 1.4 0.2]\n",
      " [5.4 3.9 1.7 0.4]\n",
      " [4.6 3.4 1.4 0.3]\n",
      " [5.  3.4 1.5 0.2]\n",
      " [4.4 2.9 1.4 0.2]\n",
      " [4.9 3.1 1.5 0.1]]\n",
      "y\n",
      " [0 0 0 0 0 0 0 0 0 0 0 0 0 0 0 0 0 0 0 0 0 0 0 0 0 0 0 0 0 0 0 0 0 0 0 0 0\n",
      " 0 0 0 0 0 0 0 0 0 0 0 0 0 1 1 1 1 1 1 1 1 1 1 1 1 1 1 1 1 1 1 1 1 1 1 1 1\n",
      " 1 1 1 1 1 1 1 1 1 1 1 1 1 1 1 1 1 1 1 1 1 1 1 1 1 1 2 2 2 2 2 2 2 2 2 2 2\n",
      " 2 2 2 2 2 2 2 2 2 2 2 2 2 2 2 2 2 2 2 2 2 2 2 2 2 2 2 2 2 2 2 2 2 2 2 2 2\n",
      " 2 2]\n"
     ]
    }
   ],
   "source": [
    "from sklearn import datasets\n",
    "iris = datasets.load_iris()                 # load the iris dataset\n",
    "X = iris.data                               # features\n",
    "y = iris.target                             # target\n",
    "\n",
    "print('X\\n', X[:10])                        # print the first 10 rows of X\n",
    "print('y\\n', y)                             # print the target y"
   ]
  },
  {
   "cell_type": "code",
   "execution_count": 95,
   "metadata": {
    "slideshow": {
     "slide_type": "slide"
    }
   },
   "outputs": [
    {
     "data": {
      "image/png": "[encoded data removed]",
      "text/plain": [
       "<Figure size 432x288 with 1 Axes>"
      ]
     },
     "metadata": {
      "needs_background": "light"
     },
     "output_type": "display_data"
    }
   ],
   "source": [
    "plt.scatter(X[:,0], X[:,1], c=y)                                    # plot the data with the first two features and color by the target\n",
    "plt.title('Actual class in the space of feature 1 and feature 2')   # add the title\n",
    "plt.xlabel('feature 1')                                             # label the x-axis   \n",
    "plt.ylabel('feature 2')                                             # label the y-axis\n",
    "plt.show()                                                          # show the plot"
   ]
  },
  {
   "cell_type": "code",
   "execution_count": 96,
   "metadata": {
    "slideshow": {
     "slide_type": "slide"
    }
   },
   "outputs": [
    {
     "data": {
      "text/html": [
       "<style>#sk-container-id-3 {color: black;}#sk-container-id-3 pre{padding: 0;}#sk-container-id-3 div.sk-toggleable {background-color: white;}#sk-container-id-3 label.sk-toggleable__label {cursor: pointer;display: block;width: 100%;margin-bottom: 0;padding: 0.3em;box-sizing: border-box;text-align: center;}#sk-container-id-3 label.sk-toggleable__label-arrow:before {content: \"▸\";float: left;margin-right: 0.25em;color: #696969;}#sk-container-id-3 label.sk-toggleable__label-arrow:hover:before {color: black;}#sk-container-id-3 div.sk-estimator:hover label.sk-toggleable__label-arrow:before {color: black;}#sk-container-id-3 div.sk-toggleable__content {max-height: 0;max-width: 0;overflow: hidden;text-align: left;background-color: #f0f8ff;}#sk-container-id-3 div.sk-toggleable__content pre {margin: 0.2em;color: black;border-radius: 0.25em;background-color: #f0f8ff;}#sk-container-id-3 input.sk-toggleable__control:checked~div.sk-toggleable__content {max-height: 200px;max-width: 100%;overflow: auto;}#sk-container-id-3 input.sk-toggleable__control:checked~label.sk-toggleable__label-arrow:before {content: \"▾\";}#sk-container-id-3 div.sk-estimator input.sk-toggleable__control:checked~label.sk-toggleable__label {background-color: #d4ebff;}#sk-container-id-3 div.sk-label input.sk-toggleable__control:checked~label.sk-toggleable__label {background-color: #d4ebff;}#sk-container-id-3 input.sk-hidden--visually {border: 0;clip: rect(1px 1px 1px 1px);clip: rect(1px, 1px, 1px, 1px);height: 1px;margin: -1px;overflow: hidden;padding: 0;position: absolute;width: 1px;}#sk-container-id-3 div.sk-estimator {font-family: monospace;background-color: #f0f8ff;border: 1px dotted black;border-radius: 0.25em;box-sizing: border-box;margin-bottom: 0.5em;}#sk-container-id-3 div.sk-estimator:hover {background-color: #d4ebff;}#sk-container-id-3 div.sk-parallel-item::after {content: \"\";width: 100%;border-bottom: 1px solid gray;flex-grow: 1;}#sk-container-id-3 div.sk-label:hover label.sk-toggleable__label {background-color: #d4ebff;}#sk-container-id-3 div.sk-serial::before {content: \"\";position: absolute;border-left: 1px solid gray;box-sizing: border-box;top: 0;bottom: 0;left: 50%;z-index: 0;}#sk-container-id-3 div.sk-serial {display: flex;flex-direction: column;align-items: center;background-color: white;padding-right: 0.2em;padding-left: 0.2em;position: relative;}#sk-container-id-3 div.sk-item {position: relative;z-index: 1;}#sk-container-id-3 div.sk-parallel {display: flex;align-items: stretch;justify-content: center;background-color: white;position: relative;}#sk-container-id-3 div.sk-item::before, #sk-container-id-3 div.sk-parallel-item::before {content: \"\";position: absolute;border-left: 1px solid gray;box-sizing: border-box;top: 0;bottom: 0;left: 50%;z-index: -1;}#sk-container-id-3 div.sk-parallel-item {display: flex;flex-direction: column;z-index: 1;position: relative;background-color: white;}#sk-container-id-3 div.sk-parallel-item:first-child::after {align-self: flex-end;width: 50%;}#sk-container-id-3 div.sk-parallel-item:last-child::after {align-self: flex-start;width: 50%;}#sk-container-id-3 div.sk-parallel-item:only-child::after {width: 0;}#sk-container-id-3 div.sk-dashed-wrapped {border: 1px dashed gray;margin: 0 0.4em 0.5em 0.4em;box-sizing: border-box;padding-bottom: 0.4em;background-color: white;}#sk-container-id-3 div.sk-label label {font-family: monospace;font-weight: bold;display: inline-block;line-height: 1.2em;}#sk-container-id-3 div.sk-label-container {text-align: center;}#sk-container-id-3 div.sk-container {/* jupyter's `normalize.less` sets `[hidden] { display: none; }` but bootstrap.min.css set `[hidden] { display: none !important; }` so we also need the `!important` here to be able to override the default hidden behavior on the sphinx rendered scikit-learn.org. See: https://github.com/scikit-learn/scikit-learn/issues/21755 */display: inline-block !important;position: relative;}#sk-container-id-3 div.sk-text-repr-fallback {display: none;}</style><div id=\"sk-container-id-3\" class=\"sk-top-container\"><div class=\"sk-text-repr-fallback\"><pre>LogisticRegression(C=1000000000.0, multi_class=&#x27;multinomial&#x27;)</pre><b>In a Jupyter environment, please rerun this cell to show the HTML representation or trust the notebook. <br />On GitHub, the HTML representation is unable to render, please try loading this page with nbviewer.org.</b></div><div class=\"sk-container\" hidden><div class=\"sk-item\"><div class=\"sk-estimator sk-toggleable\"><input class=\"sk-toggleable__control sk-hidden--visually\" id=\"sk-estimator-id-3\" type=\"checkbox\" checked><label for=\"sk-estimator-id-3\" class=\"sk-toggleable__label sk-toggleable__label-arrow\">LogisticRegression</label><div class=\"sk-toggleable__content\"><pre>LogisticRegression(C=1000000000.0, multi_class=&#x27;multinomial&#x27;)</pre></div></div></div></div></div>"
      ],
      "text/plain": [
       "LogisticRegression(C=1000000000.0, multi_class='multinomial')"
      ]
     },
     "execution_count": 96,
     "metadata": {},
     "output_type": "execute_result"
    }
   ],
   "source": [
    "lr = LogisticRegression(solver='lbfgs', multi_class='multinomial',C = 1e9)      # fit the multinomial logistic regression model\n",
    "# here C is a regularization term like we had for lasso and ridge, a smaller number means large regularization\n",
    "lr.fit(X,y)   # fit the model"
   ]
  },
  {
   "cell_type": "code",
   "execution_count": 97,
   "metadata": {},
   "outputs": [
    {
     "name": "stdout",
     "output_type": "stream",
     "text": [
      "beta_k0\n",
      " [  3.97750564  19.33027251 -23.30777816]\n",
      "beta_k1, beta_k2, beta_k3, beta_k4\n",
      " [[  7.35271466  20.39778454 -30.26348739 -14.14337754]\n",
      " [ -2.44376492  -6.85843959  10.41704506  -2.07138612]\n",
      " [ -4.90894974 -13.53934495  19.84644233  16.21476366]]\n"
     ]
    }
   ],
   "source": [
    "print('beta_k0\\n',lr.intercept_)                                # print the intercept\n",
    "print('beta_k1, beta_k2, beta_k3, beta_k4\\n', lr.coef_)         # print the coefficients\n",
    "# In class we said that we only need (p+1)*(K-1) coefficietns. Here it is (p+1)*K. \n",
    "# If you see carefully, you will see that the last row is redundant given first two rows. \n",
    "# When solving numerically in computer, they need this extra row. "
   ]
  },
  {
   "cell_type": "code",
   "execution_count": 98,
   "metadata": {
    "slideshow": {
     "slide_type": "slide"
    }
   },
   "outputs": [
    {
     "data": {
      "text/plain": [
       "array([[50,  0,  0],\n",
       "       [ 0, 49,  1],\n",
       "       [ 0,  1, 49]])"
      ]
     },
     "execution_count": 98,
     "metadata": {},
     "output_type": "execute_result"
    }
   ],
   "source": [
    "# confusion matrix\n",
    "y_pred = lr.predict(X)                                        # predicted class\n",
    "confusion_matrix(y,y_pred)                                    # confusion matrix"
   ]
  },
  {
   "cell_type": "code",
   "execution_count": 99,
   "metadata": {},
   "outputs": [
    {
     "data": {
      "text/plain": [
       "0.9866666666666667"
      ]
     },
     "execution_count": 99,
     "metadata": {},
     "output_type": "execute_result"
    }
   ],
   "source": [
    "from sklearn.metrics import f1_score\n",
    "from sklearn.metrics import roc_auc_score\n",
    "f1_score(y, y_pred, average='weighted')                       # F1 score"
   ]
  },
  {
   "cell_type": "code",
   "execution_count": 100,
   "metadata": {},
   "outputs": [],
   "source": [
    "y_proba = lr.predict_proba(X)                                 # predicted probabilities"
   ]
  },
  {
   "cell_type": "code",
   "execution_count": 101,
   "metadata": {
    "scrolled": true
   },
   "outputs": [
    {
     "data": {
      "text/plain": [
       "0.9990666666666668"
      ]
     },
     "execution_count": 101,
     "metadata": {},
     "output_type": "execute_result"
    }
   ],
   "source": [
    "roc_auc_score(y, y_proba, average= 'weighted', multi_class='ovr')  # ROC AUC score for multiclass classification using one-vs-rest strategy "
   ]
  },
  {
   "cell_type": "code",
   "execution_count": 102,
   "metadata": {
    "slideshow": {
     "slide_type": "slide"
    }
   },
   "outputs": [
    {
     "data": {
      "image/png": "[encoded data removed]",
      "text/plain": [
       "<Figure size 432x288 with 1 Axes>"
      ]
     },
     "metadata": {
      "needs_background": "light"
     },
     "output_type": "display_data"
    }
   ],
   "source": [
    "# a simple plot showing feature 1 and feature 2 and our prediction results\n",
    "plt.scatter(X[:,0], X[:,1], c=y_pred)                                   # plot the data with the first two features and color by the predicted class\n",
    "plt.title('Predicted class in the space of feature 1 and feature 2')    # add the title\n",
    "plt.xlabel('feature 1')                                                 # label the x-axis\n",
    "plt.ylabel('feature 2')                                                 # label the y-axis\n",
    "plt.show()                                                              # show the plot"
   ]
  },
  {
   "cell_type": "markdown",
   "metadata": {
    "slideshow": {
     "slide_type": "slide"
    }
   },
   "source": [
    "# 3. Poisson Regression"
   ]
  },
  {
   "cell_type": "markdown",
   "metadata": {
    "slideshow": {
     "slide_type": "slide"
    }
   },
   "source": [
    "## Poisson Distribution"
   ]
  },
  {
   "cell_type": "code",
   "execution_count": 103,
   "metadata": {
    "slideshow": {
     "slide_type": "-"
    }
   },
   "outputs": [
    {
     "data": {
      "image/png": "[encoded data removed]",
      "text/plain": [
       "<Figure size 1008x216 with 3 Axes>"
      ]
     },
     "metadata": {
      "needs_background": "light"
     },
     "output_type": "display_data"
    }
   ],
   "source": [
    "import scipy as sp\n",
    "## Show how Poissson distribution looks for each lambda\n",
    "fig, axes = plt.subplots(1, 3, figsize=(14, 3), sharey=True)     # create a figure with 3 subplots in a row, sharey=True means they will have the same y-axis\n",
    "\n",
    "xx = np.arange(20)                                               # generate x values from 0 to 19\n",
    "lambdas = [1, 5, 10]                                             # lambda values for the Poisson distribution\n",
    "\n",
    "for i, lam in enumerate(lambdas):                                # loop through the lambda values\n",
    "    yy = sp.stats.poisson.pmf(xx, lam)                           # calculate the Poisson probability mass function\n",
    "    axes[i].bar(xx, yy)                                          # plot the Poisson distribution for the lambda value using bars\n",
    "    axes[i].set_title(r'$\\lambda={}$'.format(lam))               # add the title\n",
    "\n",
    "plt.show()"
   ]
  },
  {
   "cell_type": "markdown",
   "metadata": {
    "slideshow": {
     "slide_type": "slide"
    }
   },
   "source": [
    "## Poisson regression"
   ]
  },
  {
   "cell_type": "code",
   "execution_count": 104,
   "metadata": {},
   "outputs": [],
   "source": [
    "# generate simulation data\n",
    "np.random.seed(5)               # set seed for reproducibility\n",
    "n_sample = 100                  # number of samples\n",
    "a = 0.6                         # slope\n",
    "b = -0.4                        # intercept\n",
    "\n",
    "x = np.random.uniform(1, 5, size=n_sample)   # generate random x values\n",
    "mu = np.exp(a * x + b)                       # calculate the mean of the Poisson distribution\n",
    "y = np.random.poisson(mu)                    # generate random Poisson outcomes"
   ]
  },
  {
   "cell_type": "code",
   "execution_count": 105,
   "metadata": {
    "slideshow": {
     "slide_type": "-"
    }
   },
   "outputs": [
    {
     "name": "stdout",
     "output_type": "stream",
     "text": [
      "[1.88797268 4.48292922 1.82687662 4.67444363 2.95364476]\n",
      "[ 2 11  7  5  3]\n"
     ]
    }
   ],
   "source": [
    "print(x[:5])                            # print the first 5 rows of x\n",
    "print(y[:5])                            # print the first 5 rows of y"
   ]
  },
  {
   "cell_type": "code",
   "execution_count": 106,
   "metadata": {
    "slideshow": {
     "slide_type": "slide"
    }
   },
   "outputs": [
    {
     "data": {
      "image/png": "[encoded data removed]",
      "text/plain": [
       "<Figure size 432x288 with 1 Axes>"
      ]
     },
     "metadata": {
      "needs_background": "light"
     },
     "output_type": "display_data"
    }
   ],
   "source": [
    "plt.scatter(x,y)                    # plot the data\n",
    "plt.show()                          # show the plot"
   ]
  },
  {
   "cell_type": "code",
   "execution_count": 107,
   "metadata": {
    "slideshow": {
     "slide_type": "slide"
    }
   },
   "outputs": [
    {
     "data": {
      "text/html": [
       "<table class=\"simpletable\">\n",
       "<caption>Generalized Linear Model Regression Results</caption>\n",
       "<tr>\n",
       "  <th>Dep. Variable:</th>           <td>y</td>        <th>  No. Observations:  </th>  <td>   100</td> \n",
       "</tr>\n",
       "<tr>\n",
       "  <th>Model:</th>                  <td>GLM</td>       <th>  Df Residuals:      </th>  <td>    98</td> \n",
       "</tr>\n",
       "<tr>\n",
       "  <th>Model Family:</th>         <td>Poisson</td>     <th>  Df Model:          </th>  <td>     1</td> \n",
       "</tr>\n",
       "<tr>\n",
       "  <th>Link Function:</th>          <td>log</td>       <th>  Scale:             </th> <td>  1.0000</td>\n",
       "</tr>\n",
       "<tr>\n",
       "  <th>Method:</th>                <td>IRLS</td>       <th>  Log-Likelihood:    </th> <td> -213.95</td>\n",
       "</tr>\n",
       "<tr>\n",
       "  <th>Date:</th>            <td>Tue, 30 Apr 2024</td> <th>  Deviance:          </th> <td>  120.86</td>\n",
       "</tr>\n",
       "<tr>\n",
       "  <th>Time:</th>                <td>20:15:23</td>     <th>  Pearson chi2:      </th>  <td>  115.</td> \n",
       "</tr>\n",
       "<tr>\n",
       "  <th>No. Iterations:</th>          <td>5</td>        <th>  Pseudo R-squ. (CS):</th>  <td>0.8754</td> \n",
       "</tr>\n",
       "<tr>\n",
       "  <th>Covariance Type:</th>     <td>nonrobust</td>    <th>                     </th>     <td> </td>   \n",
       "</tr>\n",
       "</table>\n",
       "<table class=\"simpletable\">\n",
       "<tr>\n",
       "    <td></td>       <th>coef</th>     <th>std err</th>      <th>z</th>      <th>P>|z|</th>  <th>[0.025</th>    <th>0.975]</th>  \n",
       "</tr>\n",
       "<tr>\n",
       "  <th>const</th> <td>   -0.2789</td> <td>    0.162</td> <td>   -1.720</td> <td> 0.085</td> <td>   -0.597</td> <td>    0.039</td>\n",
       "</tr>\n",
       "<tr>\n",
       "  <th>x1</th>    <td>    0.5646</td> <td>    0.042</td> <td>   13.508</td> <td> 0.000</td> <td>    0.483</td> <td>    0.647</td>\n",
       "</tr>\n",
       "</table>"
      ],
      "text/plain": [
       "<class 'statsmodels.iolib.summary.Summary'>\n",
       "\"\"\"\n",
       "                 Generalized Linear Model Regression Results                  \n",
       "==============================================================================\n",
       "Dep. Variable:                      y   No. Observations:                  100\n",
       "Model:                            GLM   Df Residuals:                       98\n",
       "Model Family:                 Poisson   Df Model:                            1\n",
       "Link Function:                    log   Scale:                          1.0000\n",
       "Method:                          IRLS   Log-Likelihood:                -213.95\n",
       "Date:                Tue, 30 Apr 2024   Deviance:                       120.86\n",
       "Time:                        20:15:23   Pearson chi2:                     115.\n",
       "No. Iterations:                     5   Pseudo R-squ. (CS):             0.8754\n",
       "Covariance Type:            nonrobust                                         \n",
       "==============================================================================\n",
       "                 coef    std err          z      P>|z|      [0.025      0.975]\n",
       "------------------------------------------------------------------------------\n",
       "const         -0.2789      0.162     -1.720      0.085      -0.597       0.039\n",
       "x1             0.5646      0.042     13.508      0.000       0.483       0.647\n",
       "==============================================================================\n",
       "\"\"\""
      ]
     },
     "execution_count": 107,
     "metadata": {},
     "output_type": "execute_result"
    }
   ],
   "source": [
    "X, y = sm.add_constant(x), y                                                            # add a constant to the x values\n",
    "model = sm.GLM(y, X, family=sm.families.Poisson(link=sm.families.links.log())).fit()    # fit the model with the Poisson link function and Poisson family\n",
    "model.summary()"
   ]
  },
  {
   "cell_type": "code",
   "execution_count": 108,
   "metadata": {
    "slideshow": {
     "slide_type": "slide"
    }
   },
   "outputs": [
    {
     "data": {
      "image/png": "[encoded data removed]",
      "text/plain": [
       "<Figure size 432x288 with 1 Axes>"
      ]
     },
     "metadata": {
      "needs_background": "light"
     },
     "output_type": "display_data"
    }
   ],
   "source": [
    "y_pred = model.predict(X)                    # predicted y values\n",
    "\n",
    "idx = x.argsort()                            # sort the x values to plot the line\n",
    "x_ord, y_pred_ord = x[idx], y_pred[idx]      # order the x and y values with the sorted index\n",
    "plt.plot(x_ord, y_pred_ord, color='m')       # plot the predicted Poisson values \n",
    "plt.scatter(x, y,  s=20, alpha=0.8)          # plot the data, s is the size of the points, alpha is the transparency\n",
    "plt.xlabel(\"X\")                              # label the x-axis\n",
    "plt.ylabel(\"Y\")                              # label the y-axis\n",
    "plt.show()"
   ]
  },
  {
   "cell_type": "markdown",
   "metadata": {
    "slideshow": {
     "slide_type": "slide"
    }
   },
   "source": [
    "# 4. Probit Regression"
   ]
  },
  {
   "cell_type": "code",
   "execution_count": 109,
   "metadata": {
    "slideshow": {
     "slide_type": "slide"
    }
   },
   "outputs": [
    {
     "data": {
      "image/png": "[encoded data removed]",
      "text/plain": [
       "<Figure size 432x288 with 1 Axes>"
      ]
     },
     "metadata": {
      "needs_background": "light"
     },
     "output_type": "display_data"
    }
   ],
   "source": [
    "# generate some random data. Same as Logistic regression\n",
    "np.random.seed(5) # set seed\n",
    "n_sample = 100   # number of samples\n",
    "a = 3.0          # slope\n",
    "b = -9.0         # intercept\n",
    "\n",
    "x = np.random.uniform(1, 5, size=n_sample)  # generate random x values\n",
    "x = np.sort(x)                              # sort the x values\n",
    "\n",
    "q = logistic(a * x + b)                     # calculate the probability\n",
    "y = np.random.binomial(n=1, p=q)            # generate random binary outcomes\n",
    "\n",
    "plt.scatter(x,y)\n",
    "plt.show()"
   ]
  },
  {
   "cell_type": "code",
   "execution_count": 110,
   "metadata": {
    "slideshow": {
     "slide_type": "slide"
    }
   },
   "outputs": [
    {
     "data": {
      "text/html": [
       "<table class=\"simpletable\">\n",
       "<caption>Generalized Linear Model Regression Results</caption>\n",
       "<tr>\n",
       "  <th>Dep. Variable:</th>           <td>y</td>        <th>  No. Observations:  </th>  <td>   100</td> \n",
       "</tr>\n",
       "<tr>\n",
       "  <th>Model:</th>                  <td>GLM</td>       <th>  Df Residuals:      </th>  <td>    98</td> \n",
       "</tr>\n",
       "<tr>\n",
       "  <th>Model Family:</th>        <td>Binomial</td>     <th>  Df Model:          </th>  <td>     1</td> \n",
       "</tr>\n",
       "<tr>\n",
       "  <th>Link Function:</th>        <td>probit</td>      <th>  Scale:             </th> <td>  1.0000</td>\n",
       "</tr>\n",
       "<tr>\n",
       "  <th>Method:</th>                <td>IRLS</td>       <th>  Log-Likelihood:    </th> <td> -31.785</td>\n",
       "</tr>\n",
       "<tr>\n",
       "  <th>Date:</th>            <td>Tue, 30 Apr 2024</td> <th>  Deviance:          </th> <td>  63.570</td>\n",
       "</tr>\n",
       "<tr>\n",
       "  <th>Time:</th>                <td>20:16:04</td>     <th>  Pearson chi2:      </th>  <td>  107.</td> \n",
       "</tr>\n",
       "<tr>\n",
       "  <th>No. Iterations:</th>          <td>7</td>        <th>  Pseudo R-squ. (CS):</th>  <td>0.5277</td> \n",
       "</tr>\n",
       "<tr>\n",
       "  <th>Covariance Type:</th>     <td>nonrobust</td>    <th>                     </th>     <td> </td>   \n",
       "</tr>\n",
       "</table>\n",
       "<table class=\"simpletable\">\n",
       "<tr>\n",
       "    <td></td>       <th>coef</th>     <th>std err</th>      <th>z</th>      <th>P>|z|</th>  <th>[0.025</th>    <th>0.975]</th>  \n",
       "</tr>\n",
       "<tr>\n",
       "  <th>const</th> <td>   -3.8743</td> <td>    0.662</td> <td>   -5.855</td> <td> 0.000</td> <td>   -5.171</td> <td>   -2.577</td>\n",
       "</tr>\n",
       "<tr>\n",
       "  <th>x1</th>    <td>    1.3184</td> <td>    0.219</td> <td>    6.030</td> <td> 0.000</td> <td>    0.890</td> <td>    1.747</td>\n",
       "</tr>\n",
       "</table>"
      ],
      "text/plain": [
       "<class 'statsmodels.iolib.summary.Summary'>\n",
       "\"\"\"\n",
       "                 Generalized Linear Model Regression Results                  \n",
       "==============================================================================\n",
       "Dep. Variable:                      y   No. Observations:                  100\n",
       "Model:                            GLM   Df Residuals:                       98\n",
       "Model Family:                Binomial   Df Model:                            1\n",
       "Link Function:                 probit   Scale:                          1.0000\n",
       "Method:                          IRLS   Log-Likelihood:                -31.785\n",
       "Date:                Tue, 30 Apr 2024   Deviance:                       63.570\n",
       "Time:                        20:16:04   Pearson chi2:                     107.\n",
       "No. Iterations:                     7   Pseudo R-squ. (CS):             0.5277\n",
       "Covariance Type:            nonrobust                                         \n",
       "==============================================================================\n",
       "                 coef    std err          z      P>|z|      [0.025      0.975]\n",
       "------------------------------------------------------------------------------\n",
       "const         -3.8743      0.662     -5.855      0.000      -5.171      -2.577\n",
       "x1             1.3184      0.219      6.030      0.000       0.890       1.747\n",
       "==============================================================================\n",
       "\"\"\""
      ]
     },
     "execution_count": 110,
     "metadata": {},
     "output_type": "execute_result"
    }
   ],
   "source": [
    "X, y = sm.add_constant(x), y                                                                      # add a constant to the x values\n",
    "model_logistic = sm.GLM(y, X, family=sm.families.Binomial(link=sm.families.links.logit())).fit()  # fit the model with the logistic link function and binomial family\n",
    "model_probit = sm.GLM(y, X, family=sm.families.Binomial(link=sm.families.links.probit())).fit()   # fit the model with the probit link function and binomial family\n",
    "model_probit.summary()                                                                            # print the summary of the probit model"
   ]
  },
  {
   "cell_type": "code",
   "execution_count": 111,
   "metadata": {
    "slideshow": {
     "slide_type": "slide"
    }
   },
   "outputs": [
    {
     "data": {
      "image/png": "[encoded data removed]",
      "text/plain": [
       "<Figure size 432x288 with 1 Axes>"
      ]
     },
     "metadata": {
      "needs_background": "light"
     },
     "output_type": "display_data"
    }
   ],
   "source": [
    "y_pred_probit = model_probit.predict(X)       # predicted y values for the probit model\n",
    "y_pred_logistic = model_logistic.predict(X)   # predicted y values for the logistic model\n",
    "\n",
    "idx = x.argsort()                             # sort the x values to plot the line\n",
    "x_ord, y_pred_ord_probit, y_pred_ord_logistic = x[idx], y_pred_probit[idx], y_pred_logistic[idx]   # order the x and y values with the sorted index   \n",
    "plt.plot(x_ord, y_pred_ord_probit, color='m', alpha=0.7, label='probit')                           # plot the predicted probability values for the probit model\n",
    "plt.plot(x_ord, y_pred_ord_logistic, color='orange', alpha=0.7, label='logistic')                  # plot the predicted probability values for the logistic model\n",
    "plt.scatter(x, y,  s=20, alpha=0.8)                                                                # plot the data\n",
    "plt.xlabel(\"X\")\n",
    "plt.ylabel(\"Y\")\n",
    "plt.axhline(y=0.5, color='green', linestyle='--')                                                  # add a horizontal line at y=0.5\n",
    "plt.legend()\n",
    "plt.show()"
   ]
  },
  {
   "cell_type": "markdown",
   "metadata": {
    "slideshow": {
     "slide_type": "slide"
    }
   },
   "source": [
    "# 5. Custom GLM"
   ]
  },
  {
   "cell_type": "code",
   "execution_count": 112,
   "metadata": {
    "slideshow": {
     "slide_type": "slide"
    }
   },
   "outputs": [],
   "source": [
    "np.random.seed(5)\n",
    "n_sample = 100  # number of samples\n",
    "a = 0.6         # slope\n",
    "b = -0.4        # intercept \n",
    "sd = 0.8        # standard deviation\n",
    "\n",
    "x = np.random.uniform(1, 5, size=n_sample)  # generate random x values\n",
    "mu = np.exp(a * x + b)                      # calculate the mean of the normal distribution\n",
    "y = np.random.normal(mu, sd)                # generate random normal outcomes"
   ]
  },
  {
   "cell_type": "code",
   "execution_count": 113,
   "metadata": {
    "slideshow": {
     "slide_type": "slide"
    }
   },
   "outputs": [
    {
     "data": {
      "image/png": "[encoded data removed]",
      "text/plain": [
       "<Figure size 432x288 with 1 Axes>"
      ]
     },
     "metadata": {
      "needs_background": "light"
     },
     "output_type": "display_data"
    }
   ],
   "source": [
    "plt.scatter(x, y,  s=20, alpha=0.8)         # plot the data, s is the size of the points, alpha is the transparency\n",
    "plt.xlabel(\"X\") \n",
    "plt.ylabel(\"Y\")\n",
    "plt.show()"
   ]
  },
  {
   "cell_type": "code",
   "execution_count": 114,
   "metadata": {
    "slideshow": {
     "slide_type": "slide"
    }
   },
   "outputs": [
    {
     "data": {
      "text/html": [
       "<table class=\"simpletable\">\n",
       "<caption>Generalized Linear Model Regression Results</caption>\n",
       "<tr>\n",
       "  <th>Dep. Variable:</th>           <td>y</td>        <th>  No. Observations:  </th>  <td>   100</td> \n",
       "</tr>\n",
       "<tr>\n",
       "  <th>Model:</th>                  <td>GLM</td>       <th>  Df Residuals:      </th>  <td>    98</td> \n",
       "</tr>\n",
       "<tr>\n",
       "  <th>Model Family:</th>        <td>Gaussian</td>     <th>  Df Model:          </th>  <td>     1</td> \n",
       "</tr>\n",
       "<tr>\n",
       "  <th>Link Function:</th>          <td>log</td>       <th>  Scale:             </th> <td> 0.69261</td>\n",
       "</tr>\n",
       "<tr>\n",
       "  <th>Method:</th>                <td>IRLS</td>       <th>  Log-Likelihood:    </th> <td> -122.53</td>\n",
       "</tr>\n",
       "<tr>\n",
       "  <th>Date:</th>            <td>Tue, 30 Apr 2024</td> <th>  Deviance:          </th> <td>  67.876</td>\n",
       "</tr>\n",
       "<tr>\n",
       "  <th>Time:</th>                <td>20:16:39</td>     <th>  Pearson chi2:      </th>  <td>  67.9</td> \n",
       "</tr>\n",
       "<tr>\n",
       "  <th>No. Iterations:</th>          <td>6</td>        <th>  Pseudo R-squ. (CS):</th>  <td> 1.000</td> \n",
       "</tr>\n",
       "<tr>\n",
       "  <th>Covariance Type:</th>     <td>nonrobust</td>    <th>                     </th>     <td> </td>   \n",
       "</tr>\n",
       "</table>\n",
       "<table class=\"simpletable\">\n",
       "<tr>\n",
       "    <td></td>       <th>coef</th>     <th>std err</th>      <th>z</th>      <th>P>|z|</th>  <th>[0.025</th>    <th>0.975]</th>  \n",
       "</tr>\n",
       "<tr>\n",
       "  <th>const</th> <td>   -0.3115</td> <td>    0.075</td> <td>   -4.130</td> <td> 0.000</td> <td>   -0.459</td> <td>   -0.164</td>\n",
       "</tr>\n",
       "<tr>\n",
       "  <th>x1</th>    <td>    0.5789</td> <td>    0.018</td> <td>   32.984</td> <td> 0.000</td> <td>    0.545</td> <td>    0.613</td>\n",
       "</tr>\n",
       "</table>"
      ],
      "text/plain": [
       "<class 'statsmodels.iolib.summary.Summary'>\n",
       "\"\"\"\n",
       "                 Generalized Linear Model Regression Results                  \n",
       "==============================================================================\n",
       "Dep. Variable:                      y   No. Observations:                  100\n",
       "Model:                            GLM   Df Residuals:                       98\n",
       "Model Family:                Gaussian   Df Model:                            1\n",
       "Link Function:                    log   Scale:                         0.69261\n",
       "Method:                          IRLS   Log-Likelihood:                -122.53\n",
       "Date:                Tue, 30 Apr 2024   Deviance:                       67.876\n",
       "Time:                        20:16:39   Pearson chi2:                     67.9\n",
       "No. Iterations:                     6   Pseudo R-squ. (CS):              1.000\n",
       "Covariance Type:            nonrobust                                         \n",
       "==============================================================================\n",
       "                 coef    std err          z      P>|z|      [0.025      0.975]\n",
       "------------------------------------------------------------------------------\n",
       "const         -0.3115      0.075     -4.130      0.000      -0.459      -0.164\n",
       "x1             0.5789      0.018     32.984      0.000       0.545       0.613\n",
       "==============================================================================\n",
       "\"\"\""
      ]
     },
     "execution_count": 114,
     "metadata": {},
     "output_type": "execute_result"
    }
   ],
   "source": [
    "X,y = sm.add_constant(x),y                                                       # add a constant to the x values\n",
    "\n",
    "# Normal distribution + log link function\n",
    "model = sm.GLM(y, X, family=sm.families.Gaussian(sm.families.links.log())).fit() # fit the model with the log link function and Gaussian family\n",
    "model.summary()"
   ]
  },
  {
   "cell_type": "code",
   "execution_count": 115,
   "metadata": {
    "slideshow": {
     "slide_type": "slide"
    }
   },
   "outputs": [
    {
     "data": {
      "image/png": "[encoded data removed]",
      "text/plain": [
       "<Figure size 432x288 with 1 Axes>"
      ]
     },
     "metadata": {
      "needs_background": "light"
     },
     "output_type": "display_data"
    }
   ],
   "source": [
    "y_pred = model.predict(X)                   # predicted y values\n",
    "\n",
    "idx = x.argsort()                           # sort the x values to plot the line\n",
    "x_ord, y_pred_ord = x[idx], y_pred[idx]     # order the x and y values with the sorted index\n",
    "\n",
    "plt.plot(x_ord, y_pred_ord, color='m')      # plot the predicted values\n",
    "plt.scatter(x, y,  s=20, alpha=0.8)         # plot the data\n",
    "plt.xlabel(\"X\")\n",
    "plt.ylabel(\"Y\")\n",
    "plt.show()"
   ]
  },
  {
   "cell_type": "code",
   "execution_count": null,
   "metadata": {},
   "outputs": [],
   "source": []
  }
 ],
 "metadata": {
  "kernelspec": {
   "display_name": "regressionAnalysis",
   "language": "python",
   "name": "python3"
  },
  "language_info": {
   "codemirror_mode": {
    "name": "ipython",
    "version": 3
   },
   "file_extension": ".py",
   "mimetype": "text/x-python",
   "name": "python",
   "nbconvert_exporter": "python",
   "pygments_lexer": "ipython3",
   "version": "3.13.3"
  }
 },
 "nbformat": 4,
 "nbformat_minor": 2
}
