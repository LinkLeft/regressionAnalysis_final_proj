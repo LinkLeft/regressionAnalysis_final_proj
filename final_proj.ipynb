{
 "cells": [
  {
   "cell_type": "markdown",
   "id": "ee74cd5a",
   "metadata": {},
   "source": [
    "## 数据处理"
   ]
  },
  {
   "cell_type": "code",
   "execution_count": 43,
   "id": "1d0835dd",
   "metadata": {},
   "outputs": [],
   "source": [
    "import numpy as np\n",
    "import pandas as pd\n",
    "import seaborn as sns\n",
    "import matplotlib.pyplot as plt\n",
    "from sklearn.impute import KNNImputer\n",
    "from sklearn.preprocessing import StandardScaler\n"
   ]
  },
  {
   "cell_type": "code",
   "execution_count": 34,
   "id": "229200ef",
   "metadata": {},
   "outputs": [
    {
     "data": {
      "text/html": [
       "<div>\n",
       "<style scoped>\n",
       "    .dataframe tbody tr th:only-of-type {\n",
       "        vertical-align: middle;\n",
       "    }\n",
       "\n",
       "    .dataframe tbody tr th {\n",
       "        vertical-align: top;\n",
       "    }\n",
       "\n",
       "    .dataframe thead th {\n",
       "        text-align: right;\n",
       "    }\n",
       "</style>\n",
       "<table border=\"1\" class=\"dataframe\">\n",
       "  <thead>\n",
       "    <tr style=\"text-align: right;\">\n",
       "      <th></th>\n",
       "      <th>X1</th>\n",
       "      <th>X2</th>\n",
       "      <th>X3</th>\n",
       "      <th>X4</th>\n",
       "      <th>X5</th>\n",
       "      <th>X6</th>\n",
       "      <th>X7</th>\n",
       "      <th>X8</th>\n",
       "      <th>X9</th>\n",
       "      <th>X10</th>\n",
       "      <th>...</th>\n",
       "      <th>X37</th>\n",
       "      <th>X38</th>\n",
       "      <th>X39</th>\n",
       "      <th>X40</th>\n",
       "      <th>X41</th>\n",
       "      <th>X42</th>\n",
       "      <th>X43</th>\n",
       "      <th>X44</th>\n",
       "      <th>X45</th>\n",
       "      <th>y</th>\n",
       "    </tr>\n",
       "  </thead>\n",
       "  <tbody>\n",
       "    <tr>\n",
       "      <th>0</th>\n",
       "      <td>3.8</td>\n",
       "      <td>141</td>\n",
       "      <td>104</td>\n",
       "      <td>4.9</td>\n",
       "      <td>6.0</td>\n",
       "      <td>65</td>\n",
       "      <td>5.6</td>\n",
       "      <td>6.07</td>\n",
       "      <td>7.94</td>\n",
       "      <td>6.5</td>\n",
       "      <td>...</td>\n",
       "      <td>330</td>\n",
       "      <td>12.6</td>\n",
       "      <td>236</td>\n",
       "      <td>9.4</td>\n",
       "      <td>0.22</td>\n",
       "      <td>16.1</td>\n",
       "      <td>21.5</td>\n",
       "      <td>NaN</td>\n",
       "      <td>NaN</td>\n",
       "      <td>0</td>\n",
       "    </tr>\n",
       "    <tr>\n",
       "      <th>1</th>\n",
       "      <td>3.7</td>\n",
       "      <td>142</td>\n",
       "      <td>107</td>\n",
       "      <td>5.0</td>\n",
       "      <td>6.0</td>\n",
       "      <td>80</td>\n",
       "      <td>6.1</td>\n",
       "      <td>6.56</td>\n",
       "      <td>8.63</td>\n",
       "      <td>38.6</td>\n",
       "      <td>...</td>\n",
       "      <td>333</td>\n",
       "      <td>12.1</td>\n",
       "      <td>165</td>\n",
       "      <td>12.2</td>\n",
       "      <td>0.20</td>\n",
       "      <td>16.7</td>\n",
       "      <td>41.2</td>\n",
       "      <td>0.0</td>\n",
       "      <td>0.0</td>\n",
       "      <td>0</td>\n",
       "    </tr>\n",
       "    <tr>\n",
       "      <th>2</th>\n",
       "      <td>4.6</td>\n",
       "      <td>147</td>\n",
       "      <td>106</td>\n",
       "      <td>4.8</td>\n",
       "      <td>6.0</td>\n",
       "      <td>64</td>\n",
       "      <td>7.1</td>\n",
       "      <td>1.19</td>\n",
       "      <td>7.94</td>\n",
       "      <td>6.9</td>\n",
       "      <td>...</td>\n",
       "      <td>328</td>\n",
       "      <td>12.5</td>\n",
       "      <td>183</td>\n",
       "      <td>8.8</td>\n",
       "      <td>0.16</td>\n",
       "      <td>15.8</td>\n",
       "      <td>27.4</td>\n",
       "      <td>0.0</td>\n",
       "      <td>0.0</td>\n",
       "      <td>0</td>\n",
       "    </tr>\n",
       "    <tr>\n",
       "      <th>3</th>\n",
       "      <td>3.5</td>\n",
       "      <td>147</td>\n",
       "      <td>107</td>\n",
       "      <td>5.2</td>\n",
       "      <td>6.0</td>\n",
       "      <td>56</td>\n",
       "      <td>3.6</td>\n",
       "      <td>1.43</td>\n",
       "      <td>4.97</td>\n",
       "      <td>9.7</td>\n",
       "      <td>...</td>\n",
       "      <td>328</td>\n",
       "      <td>12.7</td>\n",
       "      <td>191</td>\n",
       "      <td>10.2</td>\n",
       "      <td>0.19</td>\n",
       "      <td>11.2</td>\n",
       "      <td>26.2</td>\n",
       "      <td>NaN</td>\n",
       "      <td>NaN</td>\n",
       "      <td>0</td>\n",
       "    </tr>\n",
       "    <tr>\n",
       "      <th>4</th>\n",
       "      <td>4.3</td>\n",
       "      <td>139</td>\n",
       "      <td>105</td>\n",
       "      <td>5.7</td>\n",
       "      <td>6.0</td>\n",
       "      <td>55</td>\n",
       "      <td>4.2</td>\n",
       "      <td>2.10</td>\n",
       "      <td>4.04</td>\n",
       "      <td>10.0</td>\n",
       "      <td>...</td>\n",
       "      <td>321</td>\n",
       "      <td>12.0</td>\n",
       "      <td>215</td>\n",
       "      <td>10.8</td>\n",
       "      <td>0.23</td>\n",
       "      <td>12.9</td>\n",
       "      <td>31.3</td>\n",
       "      <td>1.0</td>\n",
       "      <td>1.0</td>\n",
       "      <td>1</td>\n",
       "    </tr>\n",
       "  </tbody>\n",
       "</table>\n",
       "<p>5 rows × 46 columns</p>\n",
       "</div>"
      ],
      "text/plain": [
       "    X1   X2   X3   X4   X5  X6   X7    X8    X9   X10  ...  X37   X38  X39  \\\n",
       "0  3.8  141  104  4.9  6.0  65  5.6  6.07  7.94   6.5  ...  330  12.6  236   \n",
       "1  3.7  142  107  5.0  6.0  80  6.1  6.56  8.63  38.6  ...  333  12.1  165   \n",
       "2  4.6  147  106  4.8  6.0  64  7.1  1.19  7.94   6.9  ...  328  12.5  183   \n",
       "3  3.5  147  107  5.2  6.0  56  3.6  1.43  4.97   9.7  ...  328  12.7  191   \n",
       "4  4.3  139  105  5.7  6.0  55  4.2  2.10  4.04  10.0  ...  321  12.0  215   \n",
       "\n",
       "    X40   X41   X42   X43  X44  X45  y  \n",
       "0   9.4  0.22  16.1  21.5  NaN  NaN  0  \n",
       "1  12.2  0.20  16.7  41.2  0.0  0.0  0  \n",
       "2   8.8  0.16  15.8  27.4  0.0  0.0  0  \n",
       "3  10.2  0.19  11.2  26.2  NaN  NaN  0  \n",
       "4  10.8  0.23  12.9  31.3  1.0  1.0  1  \n",
       "\n",
       "[5 rows x 46 columns]"
      ]
     },
     "execution_count": 34,
     "metadata": {},
     "output_type": "execute_result"
    }
   ],
   "source": [
    "df_train = pd.read_csv('train.csv')\n",
    "df_test = pd.read_csv('test.csv')\n",
    "\n",
    "df_train.head(5)"
   ]
  },
  {
   "cell_type": "code",
   "execution_count": 35,
   "id": "96425fdf",
   "metadata": {},
   "outputs": [],
   "source": [
    "# 分离自变量与目标变量\n",
    "X_train = df_train.drop(columns='y')\n",
    "y_train = df_train['y']\n",
    "\n",
    "X_test = df_test"
   ]
  },
  {
   "cell_type": "code",
   "execution_count": 36,
   "id": "44d0c2fb",
   "metadata": {},
   "outputs": [],
   "source": [
    "# X44 和 X45 存在空白值，使用KNN进行插值，注意只能插入0或1\n",
    "imputer = KNNImputer(n_neighbors=5)\n",
    "\n",
    "X_train_imputed = imputer.fit_transform(X_train)\n",
    "X_test_imputed = imputer.fit_transform(X_test)\n",
    "\n",
    "# KNN 插值不一定为0或1（取的是平均值），手动调整为0或1\n",
    "for i in range(len(X_train_imputed)):\n",
    "    X44 = X_train_imputed[i, -2]\n",
    "    X45 = X_train_imputed[i, -1]\n",
    "    if X44 <= 0.5:\n",
    "        X44 = 0\n",
    "    else:\n",
    "        X44 = 1\n",
    "\n",
    "    if X45 <= 0.5:\n",
    "        X45 = 0\n",
    "    else:\n",
    "        X45 = 1\n",
    "\n",
    "for i in range(len(X_test_imputed)):\n",
    "    X44 = X_test_imputed[i, -2]\n",
    "    X45 = X_test_imputed[i, -1]\n",
    "    if X44 <= 0.5:\n",
    "        X44 = 0\n",
    "    else:\n",
    "        X44 = 1\n",
    "\n",
    "    if X45 <= 0.5:\n",
    "        X45 = 0\n",
    "    else:\n",
    "        X45 = 1"
   ]
  },
  {
   "cell_type": "code",
   "execution_count": null,
   "id": "d27f243e",
   "metadata": {},
   "outputs": [],
   "source": [
    "# 对分类变量进行独热编码，对数值型变量进行标准化\n",
    "scaler = StandardScaler()\n",
    "X_train_imputed_scaled = scaler.fit_transform(X_train_imputed)\n",
    "X_test_imputed_scaled = scaler.transform(X_test_imputed)"
   ]
  },
  {
   "cell_type": "markdown",
   "id": "da824efb",
   "metadata": {},
   "source": [
    "## 画图，描述性统计"
   ]
  },
  {
   "cell_type": "code",
   "execution_count": 38,
   "id": "6dbae7a7",
   "metadata": {},
   "outputs": [],
   "source": [
    "# # 对每个组合中的自变量分布作图，观察自变量间关系\n",
    "# feature_columns = [col for col in X_train.columns if col.startswith('X')]\n",
    "# # print(feature_columns)\n",
    "# feature_dict = {}\n",
    "\n",
    "# for i in range(0, len(feature_columns), 5):\n",
    "#     key = f\"X{i+1} to X{i+6}\"\n",
    "#     feature_dict[key] = feature_columns[i:i+5]\n",
    "#     feature_dict[key].append('y')\n",
    "#     g = sns.pairplot(df_train[feature_dict[key]], hue='y')\n",
    "#     g.fig.suptitle(key)\n",
    "#     plt.show()\n",
    "# # sns.pairplot(df_train[], hue='y')\n",
    "# # plt.show()"
   ]
  },
  {
   "cell_type": "code",
   "execution_count": 39,
   "id": "afdf054e",
   "metadata": {},
   "outputs": [],
   "source": [
    "# # 选取两个自变量，作图并观察其间关系\n",
    "# # length = len(feature_columns)\n",
    "# length = 3\n",
    "\n",
    "# for i in range(length):\n",
    "#     for j in range(i+1, length):\n",
    "#         features = [feature_columns[i], feature_columns[j]]\n",
    "#         features.append('y')\n",
    "#         title = f\"{feature_columns[i]} and {feature_columns[j]}\"\n",
    "#         g = sns.pairplot(df_train[features], hue='y')\n",
    "#         g.fig.suptitle(title)\n",
    "#         plt.show"
   ]
  },
  {
   "cell_type": "markdown",
   "id": "aa9de218",
   "metadata": {},
   "source": [
    "## 模型训练与评估"
   ]
  },
  {
   "cell_type": "code",
   "execution_count": 40,
   "id": "e3f37b10",
   "metadata": {},
   "outputs": [],
   "source": [
    "from sklearn.metrics import classification_report"
   ]
  },
  {
   "cell_type": "markdown",
   "id": "329e934c",
   "metadata": {},
   "source": [
    "### 多元逻辑回归"
   ]
  },
  {
   "cell_type": "code",
   "execution_count": 41,
   "id": "682a2378",
   "metadata": {},
   "outputs": [],
   "source": [
    "from sklearn.linear_model import LogisticRegression"
   ]
  },
  {
   "cell_type": "code",
   "execution_count": null,
   "id": "d650ac73",
   "metadata": {},
   "outputs": [
    {
     "name": "stderr",
     "output_type": "stream",
     "text": [
      "d:\\Apps\\Anaconda\\conda\\envs\\regressionAnalysis\\Lib\\site-packages\\sklearn\\linear_model\\_logistic.py:465: ConvergenceWarning: lbfgs failed to converge (status=1):\n",
      "STOP: TOTAL NO. OF ITERATIONS REACHED LIMIT.\n",
      "\n",
      "Increase the number of iterations (max_iter) or scale the data as shown in:\n",
      "    https://scikit-learn.org/stable/modules/preprocessing.html\n",
      "Please also refer to the documentation for alternative solver options:\n",
      "    https://scikit-learn.org/stable/modules/linear_model.html#logistic-regression\n",
      "  n_iter_i = _check_optimize_result(\n"
     ]
    }
   ],
   "source": [
    "# 尝试直接进行多元逻辑回归，观察效果\n",
    "LR_model = LogisticRegression(random_state=42)\n",
    "\n",
    "LR_model.fit(X_train_imputed, y_train)\n",
    "\n",
    "# 评估拟合效果\n",
    "y_train_pred = LR_model.predict(X_train_imputed)\n",
    "y_test_pred = LR_model.predict(X_test_imputed)\n",
    "\n",
    "report = classification_report(y_train, y_train_pred)"
   ]
  },
  {
   "cell_type": "markdown",
   "id": "522759f0",
   "metadata": {},
   "source": [
    "## 生成csv结果文件"
   ]
  },
  {
   "cell_type": "code",
   "execution_count": null,
   "id": "2ac4c7a3",
   "metadata": {},
   "outputs": [],
   "source": [
    "id = \n",
    "solution = "
   ]
  }
 ],
 "metadata": {
  "kernelspec": {
   "display_name": "regressionAnalysis",
   "language": "python",
   "name": "python3"
  },
  "language_info": {
   "codemirror_mode": {
    "name": "ipython",
    "version": 3
   },
   "file_extension": ".py",
   "mimetype": "text/x-python",
   "name": "python",
   "nbconvert_exporter": "python",
   "pygments_lexer": "ipython3",
   "version": "3.13.3"
  }
 },
 "nbformat": 4,
 "nbformat_minor": 5
}
