{
 "cells": [
  {
   "cell_type": "markdown",
   "id": "ee74cd5a",
   "metadata": {},
   "source": [
    "## 数据处理"
   ]
  },
  {
   "cell_type": "code",
   "execution_count": 43,
   "id": "1d0835dd",
   "metadata": {},
   "outputs": [],
   "source": [
    "import numpy as np\n",
    "import pandas as pd\n",
    "import seaborn as sns\n",
    "import matplotlib.pyplot as plt\n",
    "from sklearn.impute import KNNImputer\n",
    "from sklearn.preprocessing import StandardScaler\n"
   ]
  },
  {
   "cell_type": "code",
   "execution_count": null,
   "id": "ea7b0c18",
   "metadata": {},
   "outputs": [],
   "source": [
    "class DataProcessing:\n",
    "    def __init__(self):\n",
    "        pass\n",
    "\n",
    "    # 读取数据并分离自变量与目标变量\n",
    "    def readData(self, file_train: str, file_test: str, show='yes'):\n",
    "        df_train = pd.read_csv('train.csv')\n",
    "        df_test = pd.read_csv('test.csv')\n",
    "\n",
    "        if show == 'yes':\n",
    "            df_train.head(5)\n",
    "        \n",
    "        # 分离自变量与目标变量\n",
    "        X_train = df_train.drop(columns='y')\n",
    "        y_train = df_train['y']\n",
    "\n",
    "        X_test = df_test\n",
    "    \n",
    "        return X_train, y_train, X_test\n",
    "\n",
    "    # X44 和 X45 存在空白值，使用KNN进行插值，注意只能插入0或1\n",
    "    def impute_KNN(self, X_train, X_test, n_neighbors=5):\n",
    "        imputer = KNNImputer(n_neighbors=n_neighbors)\n",
    "\n",
    "        X_train_imputed = imputer.fit_transform(X_train)\n",
    "        X_test_imputed = imputer.fit_transform(X_test)\n",
    "\n",
    "        # KNN 插值不一定为0或1（取的是平均值），手动调整为0或1\n",
    "        for i in range(len(X_train_imputed)):\n",
    "            X44 = X_train_imputed[i, -2]\n",
    "            X45 = X_train_imputed[i, -1]\n",
    "            if X44 <= 0.5:\n",
    "                X44 = 0\n",
    "            else:\n",
    "                X44 = 1\n",
    "\n",
    "            if X45 <= 0.5:\n",
    "                X45 = 0\n",
    "            else:\n",
    "                X45 = 1\n",
    "\n",
    "        for i in range(len(X_test_imputed)):\n",
    "            X44 = X_test_imputed[i, -2]\n",
    "            X45 = X_test_imputed[i, -1]\n",
    "            if X44 <= 0.5:\n",
    "                X44 = 0\n",
    "            else:\n",
    "                X44 = 1\n",
    "\n",
    "            if X45 <= 0.5:\n",
    "                X45 = 0\n",
    "            else:\n",
    "                X45 = 1\n",
    "\n",
    "    # 对分类变量进行独热编码，对数值型变量进行标准化\n",
    "    def standardization(self, X_train_imputed, X_test_imputed):\n",
    "        scaler = StandardScaler()\n",
    "        X_train_imputed_scaled = scaler.fit_transform(X_train_imputed)\n",
    "        X_test_imputed_scaled = scaler.transform(X_test_imputed)\n",
    "        return X_test_imputed_scaled, X_test_imputed_scaled"
   ]
  },
  {
   "cell_type": "markdown",
   "id": "da824efb",
   "metadata": {},
   "source": [
    "## 画图，描述性统计"
   ]
  },
  {
   "cell_type": "code",
   "execution_count": null,
   "id": "b3907cf4",
   "metadata": {},
   "outputs": [],
   "source": [
    "class DrawFigures:\n",
    "    def __init__(self):\n",
    "        pass\n",
    "\n",
    "    # 按pdf文件中的分组对自变量作图，观察每组中自变量间关系\n",
    "    def drawAll(self, df_train, X_train):\n",
    "        feature_columns = [col for col in X_train.columns if col.startswith('X')]\n",
    "        # print(feature_columns)\n",
    "        feature_dict = {}\n",
    "\n",
    "        for i in range(0, len(feature_columns), 5):\n",
    "            key = f\"X{i+1} to X{i+6}\"\n",
    "            feature_dict[key] = feature_columns[i:i+5]\n",
    "            feature_dict[key].append('y')\n",
    "            g = sns.pairplot(df_train[feature_dict[key]], hue='y')\n",
    "            g.fig.suptitle(key)\n",
    "            plt.show()\n",
    "        # sns.pairplot(df_train[], hue='y')\n",
    "        # plt.show()\n",
    "\n",
    "    # 选取两个自变量，作图并观察其间关系\n",
    "    def drawPair(self, df_train, X_train):\n",
    "        feature_columns = [col for col in X_train.columns if col.startswith('X')]\n",
    "\n",
    "        # length = len(feature_columns)\n",
    "        length = 3\n",
    "\n",
    "        for i in range(length):\n",
    "            for j in range(i+1, length):\n",
    "                features = [feature_columns[i], feature_columns[j]]\n",
    "                features.append('y')\n",
    "                title = f\"{feature_columns[i]} and {feature_columns[j]}\"\n",
    "                g = sns.pairplot(df_train[features], hue='y')\n",
    "                g.fig.suptitle(title)\n",
    "                plt.show"
   ]
  },
  {
   "cell_type": "markdown",
   "id": "aa9de218",
   "metadata": {},
   "source": [
    "## 模型训练与评估"
   ]
  },
  {
   "cell_type": "code",
   "execution_count": null,
   "id": "e3f37b10",
   "metadata": {},
   "outputs": [],
   "source": [
    "from sklearn.metrics import classification_report\n",
    "from sklearn.linear_model import LogisticRegression"
   ]
  },
  {
   "cell_type": "code",
   "execution_count": null,
   "id": "e21fe39c",
   "metadata": {},
   "outputs": [],
   "source": [
    "class Model:\n",
    "    def __init__(self, X_train, y_train, X_test):\n",
    "        self.X_train = X_train\n",
    "        self.y_train = y_train\n",
    "        self.X_test = X_test\n",
    "\n",
    "    # 多元逻辑回归\n",
    "    def LR(self, random_state=42, generate_report='yes'):\n",
    "        # 尝试直接进行多元逻辑回归，观察效果\n",
    "        LR_model = LogisticRegression(random_state=random_state)\n",
    "\n",
    "        LR_model.fit(self.X_train, self.y_train)\n",
    "\n",
    "        # 评估拟合效果\n",
    "        y_train_pred = LR_model.predict(self.X_train)\n",
    "        y_test_pred = LR_model.predict(self.X_test)\n",
    "\n",
    "        if generate_report == 'yes':\n",
    "            report = classification_report(self.y_train, y_train_pred)"
   ]
  },
  {
   "cell_type": "markdown",
   "id": "00629d69",
   "metadata": {},
   "source": [
    "## 生成csv结果文件"
   ]
  },
  {
   "cell_type": "code",
   "execution_count": null,
   "id": "124d1296",
   "metadata": {},
   "outputs": [],
   "source": [
    "def createSolution(X_test, y_pred, name='solution'):\n",
    "    "
   ]
  },
  {
   "cell_type": "markdown",
   "id": "237b214d",
   "metadata": {},
   "source": [
    "## 主文件"
   ]
  },
  {
   "cell_type": "code",
   "execution_count": null,
   "id": "c4ddc41d",
   "metadata": {},
   "outputs": [],
   "source": []
  }
 ],
 "metadata": {
  "kernelspec": {
   "display_name": "regressionAnalysis",
   "language": "python",
   "name": "python3"
  },
  "language_info": {
   "codemirror_mode": {
    "name": "ipython",
    "version": 3
   },
   "file_extension": ".py",
   "mimetype": "text/x-python",
   "name": "python",
   "nbconvert_exporter": "python",
   "pygments_lexer": "ipython3",
   "version": "3.13.3"
  }
 },
 "nbformat": 4,
 "nbformat_minor": 5
}
