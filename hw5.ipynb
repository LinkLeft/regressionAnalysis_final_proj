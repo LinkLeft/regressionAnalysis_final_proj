{
 "cells": [
  {
   "cell_type": "markdown",
   "id": "9c90e2db",
   "metadata": {},
   "source": [
    "## Part I"
   ]
  },
  {
   "cell_type": "markdown",
   "id": "901cda99",
   "metadata": {},
   "source": [
    "### (1)"
   ]
  },
  {
   "cell_type": "code",
   "execution_count": 1,
   "id": "7a1f95b3",
   "metadata": {},
   "outputs": [],
   "source": [
    "import numpy as np\n",
    "import pandas as pd\n",
    "import matplotlib.pyplot as plt\n",
    "import warnings\n",
    "warnings.filterwarnings(\"ignore\")"
   ]
  },
  {
   "cell_type": "code",
   "execution_count": 2,
   "id": "b2dff28e",
   "metadata": {},
   "outputs": [],
   "source": [
    "train = pd.read_csv(\"digits_train.csv\")\n",
    "test = pd.read_csv(\"digits_test.csv\")"
   ]
  },
  {
   "cell_type": "code",
   "execution_count": 3,
   "id": "3bab4848",
   "metadata": {},
   "outputs": [
    {
     "name": "stdout",
     "output_type": "stream",
     "text": [
      "row:0| digit:1\n",
      "row:151| digit:7\n",
      "row:21| digit:5\n",
      "row:15| digit:6\n"
     ]
    },
    {
     "data": {
      "image/png": "[encoded data removed]",
      "text/plain": [
       "<Figure size 800x200 with 4 Axes>"
      ]
     },
     "metadata": {},
     "output_type": "display_data"
    }
   ],
   "source": [
    "def plotDigit(k, dat):\n",
    "    f = np.reshape(np.array(dat.loc[k][0:256]), [-1, 16])\n",
    "    print(\"row:\" + str(k) + \"| digit:\" + str(dat.loc[k][256]))\n",
    "    return f\n",
    "\n",
    "fig, (ax1, ax2, ax3, ax4) = plt.subplots(1, 4, sharey=True, figsize=(8, 2))\n",
    "\n",
    "ax1.imshow(plotDigit(0, train)) # 1\n",
    "ax2.imshow(plotDigit(151, train)) # 7\n",
    "\n",
    "ax3.imshow(plotDigit(21, train)) # 5\n",
    "ax4.imshow(plotDigit(15, train)) # 6\n",
    "\n",
    "fig.show()\n",
    "\n"
   ]
  },
  {
   "cell_type": "markdown",
   "id": "ed5d81d7",
   "metadata": {},
   "source": [
    "上述图片显示数字分别为1、7、5、6  \n",
    "认为1和7难以区分，5和6难以区分"
   ]
  },
  {
   "cell_type": "markdown",
   "id": "cd1df2a2",
   "metadata": {},
   "source": [
    "### (2)"
   ]
  },
  {
   "cell_type": "code",
   "execution_count": 4,
   "id": "24dd0386",
   "metadata": {},
   "outputs": [],
   "source": [
    "from sklearn.linear_model import LogisticRegression as LR\n",
    "from sklearn.metrics import confusion_matrix"
   ]
  },
  {
   "cell_type": "code",
   "execution_count": 5,
   "id": "56f3005d",
   "metadata": {},
   "outputs": [
    {
     "name": "stdout",
     "output_type": "stream",
     "text": [
      "训练集上作混淆矩阵为：\n",
      "[[76  0]\n",
      " [ 0 63]]\n",
      "测试集上作混淆矩阵为：\n",
      "[[25  1]\n",
      " [ 1 29]]\n"
     ]
    }
   ],
   "source": [
    "# 选择1和7，获取训练集和测试集\n",
    "train_1or7 = train[(train[\"digit\"] == 1) | (train[\"digit\"] == 7)]\n",
    "test_1or7 = test[(test[\"digit\"] == 1) | (test[\"digit\"] == 7)]\n",
    "\n",
    "# print(train_1or7)\n",
    "# print(test_1or7)\n",
    "\n",
    "# 获取自变量和响应变量\n",
    "# .iloc 基于整数位置进行索引，不用关心列名\n",
    "train_1or7_X = train_1or7.iloc[:, :-1]\n",
    "train_1or7_y = train_1or7.iloc[:, -1]\n",
    "\n",
    "# print(train_1or7_X)\n",
    "# print(train_1or7_y)\n",
    "\n",
    "test_1or7_X = test_1or7.iloc[:, :-1]\n",
    "test_1or7_y = test_1or7.iloc[:, -1]\n",
    "\n",
    "# 初始化逻辑回归模型\n",
    "model_1or7 = LR()\n",
    "\n",
    "# 训练\n",
    "model_1or7.fit(train_1or7_X, train_1or7_y)\n",
    "\n",
    "# 在训练集上进行预测并获取混淆矩阵\n",
    "y_pred_train_1or7 = model_1or7.predict(train_1or7_X)\n",
    "cm_train_1or7 = confusion_matrix(train_1or7_y, y_pred_train_1or7)\n",
    "\n",
    "# 在测试集上进行预测并获取混淆矩阵\n",
    "y_pred_test_1or7 = model_1or7.predict(test_1or7_X)\n",
    "cm_test_1or7 = confusion_matrix(test_1or7_y, y_pred_test_1or7)\n",
    "\n",
    "# print(len(y_pred_test_1or7))\n",
    "# print(len(test_1or7_y))\n",
    "\n",
    "# 打印混淆矩阵\n",
    "print(\"训练集上作混淆矩阵为：\\n\" + str(cm_train_1or7))\n",
    "print(\"测试集上作混淆矩阵为：\\n\" + str(cm_test_1or7))"
   ]
  },
  {
   "cell_type": "markdown",
   "id": "b69e470a",
   "metadata": {},
   "source": [
    "### (3)"
   ]
  },
  {
   "cell_type": "code",
   "execution_count": 6,
   "id": "420f4873",
   "metadata": {},
   "outputs": [
    {
     "name": "stdout",
     "output_type": "stream",
     "text": [
      "训练集上作混淆矩阵为：\n",
      "[[53  0]\n",
      " [ 0 76]]\n",
      "测试集上作混淆矩阵为：\n",
      "[[40  0]\n",
      " [ 0 26]]\n"
     ]
    }
   ],
   "source": [
    "# 选择0和1，获取训练集和测试集\n",
    "train_0or1 = train[(train[\"digit\"] == 0) | (train[\"digit\"] == 1)]\n",
    "test_0or1 = test[(test[\"digit\"] == 0) | (test[\"digit\"] == 1)]\n",
    "\n",
    "# 获取自变量和响应变量\n",
    "# .iloc 基于整数位置进行索引，不用关心列名\n",
    "train_0or1_X = train_0or1.iloc[:, :-1]\n",
    "train_0or1_y = train_0or1.iloc[:, -1]\n",
    "\n",
    "test_0or1_X = test_0or1.iloc[:, :-1]\n",
    "test_0or1_y = test_0or1.iloc[:, -1]\n",
    "\n",
    "# 初始化逻辑回归模型\n",
    "model_0or1 = LR()\n",
    "\n",
    "# 训练\n",
    "model_0or1.fit(train_0or1_X, train_0or1_y)\n",
    "\n",
    "# 在训练集上进行预测并获取混淆矩阵\n",
    "y_pred_train_0or1 = model_0or1.predict(train_0or1_X)\n",
    "cm_train_0or1 = confusion_matrix(train_0or1_y, y_pred_train_0or1)\n",
    "\n",
    "# 在测试集上进行预测并获取混淆矩阵\n",
    "y_pred_test_0or1 = model_0or1.predict(test_0or1_X)\n",
    "cm_test_0or1 = confusion_matrix(test_0or1_y, y_pred_test_0or1)\n",
    "\n",
    "# 打印混淆矩阵\n",
    "print(\"训练集上作混淆矩阵为：\\n\" + str(cm_train_0or1))\n",
    "print(\"测试集上作混淆矩阵为：\\n\" + str(cm_test_0or1))"
   ]
  },
  {
   "cell_type": "markdown",
   "id": "e1433d22",
   "metadata": {},
   "source": [
    "### (4)"
   ]
  },
  {
   "cell_type": "markdown",
   "id": "e0e7b11b",
   "metadata": {},
   "source": [
    "(2)中选取1和7对应数据进行逻辑回归，由于数据中特征很多，而没有太多训练数据，使用一部分特征就能完美区分两个类，所以训练集上特征矩阵中假阳例数和假阴例数都为零，测试集上假阳例数和假阴例数都为一。此时两测试集上真阳率和真阴率不为100%主要是因为1和7相对难以区分，即使特征很多也会出现分类错误\n",
    "\n",
    "(3)中选取0和1对应数据进行逻辑回归，由于数据中特征很多，而没有太多训练数据，使用一部分特征就能完美区分两个类，同时0和1相对易于区分，在训练集和测试集上混淆矩阵的真阳率和真阴率都为100%"
   ]
  },
  {
   "cell_type": "markdown",
   "id": "b9d43f85",
   "metadata": {},
   "source": [
    "### (5)"
   ]
  },
  {
   "cell_type": "code",
   "execution_count": 7,
   "id": "86551098",
   "metadata": {},
   "outputs": [],
   "source": [
    "def draw_fig(test_1or7: pd.DataFrame, test_1or7_y: pd.DataFrame, y_pred_test_1or7: np.ndarray, targetNum: int):\n",
    "    # 初始化生成图数量\n",
    "    figNum = 0\n",
    "\n",
    "    # 这里 test_1or7_y 的索引不是连续的\n",
    "    index = test_1or7_y.index\n",
    "\n",
    "    # 比较预测值和真实值\n",
    "    for i in index: \n",
    "        # print(i)\n",
    "        if figNum >= targetNum:\n",
    "            break\n",
    "        # 这里test_1or7_y为dataframe, y_pred_test_1or7为nparray，nparray中不包含索引信息，但数据排列顺序与test_1or7_y中对应，所以这种写法成立\n",
    "        if test_1or7_y[i] != y_pred_test_1or7[i]: \n",
    "            fig, ax = plt.subplots(1, 1, sharey=True, figsize=(2, 2))\n",
    "            ax.imshow(plotDigit(i, test_1or7))\n",
    "            ax.set_title(f\"True value:{test_1or7_y[i]} Predicted value{y_pred_test_1or7[i]}\")\n",
    "            fig.show()\n",
    "            figNum += 1"
   ]
  },
  {
   "cell_type": "code",
   "execution_count": 8,
   "id": "5e3f79cc",
   "metadata": {},
   "outputs": [
    {
     "name": "stdout",
     "output_type": "stream",
     "text": [
      "row:6| digit:7\n",
      "row:22| digit:1\n"
     ]
    },
    {
     "data": {
      "image/png": "[encoded data removed]",
      "text/plain": [
       "<Figure size 200x200 with 1 Axes>"
      ]
     },
     "metadata": {},
     "output_type": "display_data"
    },
    {
     "data": {
      "image/png": "[encoded data removed]",
      "text/plain": [
       "<Figure size 200x200 with 1 Axes>"
      ]
     },
     "metadata": {},
     "output_type": "display_data"
    }
   ],
   "source": [
    "draw_fig(test_1or7, test_1or7_y, y_pred_test_1or7, 2)"
   ]
  },
  {
   "cell_type": "markdown",
   "id": "3a6d0c2b",
   "metadata": {},
   "source": [
    "上面两张图片分别展示了测试集中真实值为7，预测值为1和真实值为1，预测值为7的情景"
   ]
  },
  {
   "cell_type": "markdown",
   "id": "51b6e4bd",
   "metadata": {},
   "source": [
    "## Part II"
   ]
  },
  {
   "cell_type": "markdown",
   "id": "9e123914",
   "metadata": {},
   "source": [
    "### (1)"
   ]
  },
  {
   "cell_type": "code",
   "execution_count": 9,
   "id": "913e8786",
   "metadata": {},
   "outputs": [
    {
     "name": "stdout",
     "output_type": "stream",
     "text": [
      "训练集上混淆矩阵为:\n",
      "[[ 0  0  1  2  3  4  5  6  7  8  9]\n",
      " [ 0 53  0  0  0  0  0  0  0  0  0]\n",
      " [ 1  0 76  0  0  0  0  0  0  0  0]\n",
      " [ 2  0  0 72  0  0  0  0  0  0  0]\n",
      " [ 3  0  0  0 64  0  0  0  0  0  0]\n",
      " [ 4  0  0  0  0 67  0  0  0  0  0]\n",
      " [ 5  0  0  0  0  0 56  0  0  0  0]\n",
      " [ 6  0  0  0  0  0  0 63  0  0  0]\n",
      " [ 7  0  0  0  0  0  0  0 63  0  0]\n",
      " [ 8  0  0  0  0  0  0  0  0 55  0]\n",
      " [ 9  0  0  0  0  0  0  0  0  0 68]]\n"
     ]
    }
   ],
   "source": [
    "# 分离自变量和响应变量\n",
    "train_X = train.iloc[:, :-1]\n",
    "train_y = train.iloc[:, -1]\n",
    "\n",
    "test_X = test.iloc[:, :-1]\n",
    "test_y = test.iloc[:, -1]\n",
    "\n",
    "# 模型初始化和训练\n",
    "model_P2 = LR()\n",
    "model_P2.fit(train_X, train_y)\n",
    "\n",
    "# 生成并打印训练集上混淆矩阵\n",
    "y_pred_train = model_P2.predict(train_X)\n",
    "cm_train = confusion_matrix(train_y, y_pred_train)\n",
    "# 为方便观察加入数字标记\n",
    "column_number = np.array([0, 1, 2, 3, 4, 5, 6, 7, 8, 9])\n",
    "row_number = np.array([0, 0, 1, 2, 3, 4, 5, 6, 7, 8, 9])\n",
    "cm_train = np.insert(cm_train, 0, column_number, axis=0)\n",
    "cm_train = np.insert(cm_train, 0, row_number, axis=1)\n",
    "\n",
    "print(f\"训练集上混淆矩阵为:\\n{cm_train}\")"
   ]
  },
  {
   "cell_type": "markdown",
   "id": "285ff623",
   "metadata": {},
   "source": [
    "由训练集上混淆矩阵知多元逻辑回归模型完美地区分了所有类，每类数字的真阳率都为100%"
   ]
  },
  {
   "cell_type": "markdown",
   "id": "b71f78ec",
   "metadata": {},
   "source": [
    "### (2)"
   ]
  },
  {
   "cell_type": "code",
   "execution_count": 10,
   "id": "805bee11",
   "metadata": {},
   "outputs": [
    {
     "name": "stdout",
     "output_type": "stream",
     "text": [
      "测试集上混淆矩阵为:\n",
      "[[ 0  0  1  2  3  4  5  6  7  8  9]\n",
      " [ 0 38  0  0  0  0  0  0  0  2  0]\n",
      " [ 1  0 25  0  0  0  1  0  0  0  0]\n",
      " [ 2  0  0 27  0  0  0  1  0  4  0]\n",
      " [ 3  0  0  0 26  0  0  0  1  0  0]\n",
      " [ 4  0  4  0  0 29  0  0  0  0  0]\n",
      " [ 5  0  0  0  1  0 35  0  2  0  0]\n",
      " [ 6  1  0  0  0  1  1 33  0  0  0]\n",
      " [ 7  0  1  0  0  0  0  0 28  0  1]\n",
      " [ 8  0  1  1  0  0  0  0  1 22  2]\n",
      " [ 9  1  1  0  2  0  0  0  0  0 25]]\n"
     ]
    }
   ],
   "source": [
    "# 生成并打印测试集上混淆矩阵\n",
    "y_pred_test = model_P2.predict(test_X)\n",
    "cm_test = confusion_matrix(test_y, y_pred_test)\n",
    "# 为方便观察加入数字标记\n",
    "column_number = np.array([0, 1, 2, 3, 4, 5, 6, 7, 8, 9])\n",
    "row_number = np.array([0, 0, 1, 2, 3, 4, 5, 6, 7, 8, 9])\n",
    "cm_test = np.insert(cm_test, 0, column_number, axis=0)\n",
    "cm_test = np.insert(cm_test, 0, row_number, axis=1)\n",
    "\n",
    "print(f\"测试集上混淆矩阵为:\\n{cm_test}\")"
   ]
  },
  {
   "cell_type": "markdown",
   "id": "8804f0f5",
   "metadata": {},
   "source": [
    "由测试集上混淆矩阵知较难分类的数字为1和4，2和8  \n",
    "第一部分中猜测1和7，5和6较难分类，虽然从混淆矩阵中得知有1个7被预测为1，1个6被预测为5，但相比于4个4被预测为1，4个2被预测为8而言，1和7，5和6并非最难分类的数字"
   ]
  },
  {
   "cell_type": "markdown",
   "id": "4ef840b2",
   "metadata": {},
   "source": [
    "### (3)"
   ]
  },
  {
   "cell_type": "code",
   "execution_count": 11,
   "id": "6005934c",
   "metadata": {},
   "outputs": [],
   "source": [
    "from sklearn.metrics import f1_score, roc_auc_score"
   ]
  },
  {
   "cell_type": "code",
   "execution_count": 12,
   "id": "8e766c87",
   "metadata": {},
   "outputs": [
    {
     "name": "stdout",
     "output_type": "stream",
     "text": [
      "测试集的预测精度为0.9056603773584906\n",
      "F1分数为0.9063241149375141\n",
      "AUC为0.9952538939979009\n"
     ]
    }
   ],
   "source": [
    "accuracy_test = model_P2.score(test_X, test_y)\n",
    "f1 = f1_score(test_y, y_pred_test, average='weighted')\n",
    "\n",
    "y_pred_proba_test = model_P2.predict_proba(test_X)\n",
    "\n",
    "# 'ovr'意为一对多\n",
    "roc_auc_test = roc_auc_score(test_y, y_pred_proba_test, average='weighted', multi_class='ovr')\n",
    "\n",
    "print(f\"测试集的预测精度为{accuracy_test}\")\n",
    "print(f\"F1分数为{f1}\")\n",
    "print(f\"AUC为{roc_auc_test}\")"
   ]
  },
  {
   "cell_type": "markdown",
   "id": "828d9613",
   "metadata": {},
   "source": [
    "### (4)"
   ]
  },
  {
   "cell_type": "code",
   "execution_count": 13,
   "id": "0785509f",
   "metadata": {},
   "outputs": [
    {
     "name": "stdout",
     "output_type": "stream",
     "text": [
      "row:19| digit:8\n",
      "row:46| digit:2\n",
      "row:47| digit:8\n",
      "row:65| digit:9\n"
     ]
    },
    {
     "data": {
      "image/png": "[encoded data removed]",
      "text/plain": [
       "<Figure size 200x200 with 1 Axes>"
      ]
     },
     "metadata": {},
     "output_type": "display_data"
    },
    {
     "data": {
      "image/png": "[encoded data removed]",
      "text/plain": [
       "<Figure size 200x200 with 1 Axes>"
      ]
     },
     "metadata": {},
     "output_type": "display_data"
    },
    {
     "data": {
      "image/png": "[encoded data removed]",
      "text/plain": [
       "<Figure size 200x200 with 1 Axes>"
      ]
     },
     "metadata": {},
     "output_type": "display_data"
    },
    {
     "data": {
      "image/png": "[encoded data removed]",
      "text/plain": [
       "<Figure size 200x200 with 1 Axes>"
      ]
     },
     "metadata": {},
     "output_type": "display_data"
    }
   ],
   "source": [
    "draw_fig(test, test_y, y_pred_test, 4)"
   ]
  },
  {
   "cell_type": "markdown",
   "id": "3049be58",
   "metadata": {},
   "source": [
    "## Part III"
   ]
  },
  {
   "cell_type": "markdown",
   "id": "9e4fa366",
   "metadata": {},
   "source": [
    "### (1)"
   ]
  },
  {
   "cell_type": "code",
   "execution_count": 14,
   "id": "7c33903f",
   "metadata": {},
   "outputs": [],
   "source": [
    "from sklearn.model_selection import GridSearchCV\n",
    "from sklearn.preprocessing import StandardScaler"
   ]
  },
  {
   "cell_type": "code",
   "execution_count": 15,
   "id": "26ab6137",
   "metadata": {},
   "outputs": [],
   "source": [
    "# 用岭回归拟合一个多元逻辑回归模型\n",
    "model_P3 = LR(penalty='l2', solver='lbfgs', multi_class='multinomial')\n",
    "\n",
    "# 生成一系列C值\n",
    "values_C = np.logspace(-5, 5, 100)\n",
    "\n",
    "tuned_parameters = [{'C': values_C}]\n",
    "# 十折交叉验证\n",
    "n_folds = 10\n",
    "\n",
    "clf = GridSearchCV(model_P3, tuned_parameters, cv=n_folds, refit=False, scoring='accuracy')\n",
    "clf.fit(train_X, train_y)\n",
    "\n",
    "scores = clf.cv_results_['mean_test_score']"
   ]
  },
  {
   "cell_type": "code",
   "execution_count": 16,
   "id": "ca615a2c",
   "metadata": {},
   "outputs": [
    {
     "data": {
      "image/png": "[encoded data removed]",
      "text/plain": [
       "<Figure size 800x600 with 1 Axes>"
      ]
     },
     "metadata": {},
     "output_type": "display_data"
    },
    {
     "name": "stdout",
     "output_type": "stream",
     "text": [
      "{'C': np.float64(0.10974987654930568)}\n"
     ]
    }
   ],
   "source": [
    "# 取对数\n",
    "log_C = np.log10(values_C)\n",
    "\n",
    "# 画图\n",
    "plt.figure().set_size_inches(8, 6)\n",
    "plt.plot(log_C, scores)\n",
    "plt.ylabel('accuracy')\n",
    "plt.xlabel('log(C)')\n",
    "plt.axhline(np.max(scores), linestyle='--', color='.5')\n",
    "plt.xlim([log_C[0], log_C[-1]])\n",
    "plt.show()\n",
    "\n",
    "# 打印最佳参数\n",
    "print(clf.best_params_)"
   ]
  },
  {
   "cell_type": "markdown",
   "id": "eef82596",
   "metadata": {},
   "source": [
    "### (2)"
   ]
  },
  {
   "cell_type": "code",
   "execution_count": 17,
   "id": "8e074ad0",
   "metadata": {},
   "outputs": [
    {
     "name": "stdout",
     "output_type": "stream",
     "text": [
      "C_min=0.10974987654930568\n",
      "训练集上预测精度：0.9921507064364207\n",
      "测试集上预测精度：0.889937106918239\n"
     ]
    }
   ],
   "source": [
    "C_min = clf.best_params_['C']\n",
    "print(f\"C_min={C_min}\")\n",
    "\n",
    "model_P3 = LR(penalty='l2', solver='lbfgs', multi_class='multinomial', C=C_min)\n",
    "model_P3.fit(train_X, train_y)\n",
    "\n",
    "accuracy_train = model_P3.score(train_X, train_y)\n",
    "accuracy_test = model_P3.score(test_X, test_y)\n",
    "\n",
    "print(f\"训练集上预测精度：{accuracy_train}\")\n",
    "print(f\"测试集上预测精度：{accuracy_test}\")\n"
   ]
  },
  {
   "cell_type": "markdown",
   "id": "08a7ffe7",
   "metadata": {},
   "source": [
    "### (3)"
   ]
  },
  {
   "cell_type": "code",
   "execution_count": 18,
   "id": "77ec459b",
   "metadata": {},
   "outputs": [
    {
     "name": "stdout",
     "output_type": "stream",
     "text": [
      "所有类别各系数绝对值均值为：\n",
      "[0.081  0.0946 0.1072 0.0951 0.1008 0.1023 0.1066 0.1432 0.1359 0.1145\n",
      " 0.1206 0.1427 0.1469 0.1021 0.0962 0.1364 0.069  0.0799 0.0766 0.0781\n",
      " 0.0527 0.0645 0.0827 0.0875 0.069  0.0822 0.0521 0.0734 0.0504 0.0569\n",
      " 0.0609 0.0731 0.0677 0.1159 0.1019 0.0821 0.0629 0.0536 0.0764 0.0406\n",
      " 0.0525 0.0717 0.0807 0.0623 0.0655 0.0957 0.1162 0.1159 0.0745 0.1056\n",
      " 0.0843 0.0802 0.0593 0.0583 0.0479 0.0516 0.0637 0.0713 0.0732 0.0868\n",
      " 0.0902 0.0992 0.1162 0.1107 0.0959 0.1312 0.0827 0.0771 0.0799 0.0663\n",
      " 0.0637 0.0696 0.0743 0.0724 0.0689 0.0695 0.0908 0.0997 0.1282 0.0964\n",
      " 0.119  0.1176 0.0827 0.0985 0.0905 0.0805 0.0768 0.0783 0.0813 0.075\n",
      " 0.0774 0.0894 0.1128 0.1013 0.1148 0.0722 0.1106 0.1299 0.0966 0.0701\n",
      " 0.0875 0.0883 0.1013 0.0929 0.0919 0.0725 0.0661 0.0952 0.0654 0.076\n",
      " 0.1121 0.0945 0.1144 0.1089 0.0584 0.0612 0.0732 0.0891 0.1025 0.0678\n",
      " 0.0812 0.0694 0.0636 0.0803 0.051  0.0492 0.0913 0.0854 0.1023 0.1304\n",
      " 0.0717 0.059  0.0634 0.0635 0.0792 0.0819 0.0753 0.0894 0.0513 0.0361\n",
      " 0.0853 0.0579 0.085  0.0735 0.1369 0.157  0.1314 0.0935 0.0621 0.0555\n",
      " 0.0722 0.0797 0.067  0.0886 0.0748 0.0696 0.0864 0.0887 0.1245 0.0861\n",
      " 0.1301 0.189  0.153  0.0963 0.0824 0.0971 0.0789 0.0695 0.1029 0.0821\n",
      " 0.0601 0.072  0.0773 0.0892 0.0919 0.0783 0.13   0.1756 0.1376 0.0941\n",
      " 0.0593 0.103  0.0648 0.0773 0.0937 0.0677 0.0632 0.0733 0.0675 0.0784\n",
      " 0.0988 0.0863 0.1398 0.1638 0.1083 0.096  0.0752 0.0441 0.0499 0.0466\n",
      " 0.0449 0.0514 0.0467 0.0568 0.0664 0.0593 0.0814 0.0827 0.085  0.0683\n",
      " 0.0751 0.0816 0.0465 0.0704 0.0703 0.0797 0.0523 0.0541 0.0825 0.0784\n",
      " 0.0618 0.0837 0.0676 0.0594 0.1048 0.0867 0.0786 0.0986 0.1141 0.0844\n",
      " 0.1033 0.1296 0.1148 0.1061 0.1027 0.0841 0.0965 0.0904 0.0942 0.0662\n",
      " 0.0524 0.0497 0.0604 0.0548 0.082  0.0906 0.066  0.0572 0.0641 0.0404\n",
      " 0.0526 0.0599 0.0793 0.0746 0.0677 0.0511]\n",
      "\n",
      "均值中最大值为：0.189\n",
      "均值中最小值为：0.0361\n"
     ]
    }
   ],
   "source": [
    "# 对于多分类问题，逻辑回归模型为每个类别拟合一组系数和截距（除了基准类别）\n",
    "all_coefs = model_P3.coef_\n",
    "# print(all_coefs)\n",
    "\n",
    "# print(len(all_coefs[0]))\n",
    "# 取所有类别各系数绝对值均值，用以判断某一特征对应系数是否为零\n",
    "mean_coefs = [0 for _ in range(len(all_coefs[0]))]\n",
    "for coefs in all_coefs:\n",
    "    for j in range(len(coefs)):\n",
    "        mean_coefs[j] += abs(coefs[j]) # 这里要取绝对值，防止正负值抵消\n",
    "\n",
    "# 取均值\n",
    "for i in range(len(mean_coefs)):\n",
    "    mean_coefs[i] = mean_coefs[i] / len(all_coefs)\n",
    "\n",
    "mean_coefs = np.round(mean_coefs, 4)\n",
    "print(f\"所有类别各系数绝对值均值为：\\n{mean_coefs}\\n\")\n",
    "print(f\"均值中最大值为：{np.max(mean_coefs)}\")\n",
    "print(f\"均值中最小值为：{np.min(mean_coefs)}\")"
   ]
  },
  {
   "cell_type": "markdown",
   "id": "d3f67fc8",
   "metadata": {},
   "source": [
    "上述操作将所有类别的回归系数取绝对值并取均值，所得均值最大值与最小值并无明显数量级差异，认为没有系数被估计为零，这符合岭回归特性，与期望一致"
   ]
  },
  {
   "cell_type": "markdown",
   "id": "e2f3d1a2",
   "metadata": {},
   "source": [
    "### (4)"
   ]
  },
  {
   "cell_type": "markdown",
   "id": "7c057d7a",
   "metadata": {},
   "source": [
    "- lasso 回归结果应该不如 ridge 回归\n",
    "    - lasso 回归与 ridge 回归不同，其更可能将部分在分类中起作用较小的特征对应回归系数取值为零，此时在预测中起作用的特征数量减少，预测效果会不如 ridge 回归\n",
    "    - 但 lasso 回归的泛化效果会强于 ridge 回归，其将模型拉离最优状态的幅度更大，在惩罚系数相同时相比 ridge 回归有更大惩罚力度，过拟合可能性降低"
   ]
  },
  {
   "cell_type": "markdown",
   "id": "8189e9b2",
   "metadata": {},
   "source": [
    "## Part IV"
   ]
  },
  {
   "cell_type": "markdown",
   "id": "84c85fb8",
   "metadata": {},
   "source": [
    "### (1)"
   ]
  },
  {
   "cell_type": "code",
   "execution_count": 19,
   "id": "f825f96b",
   "metadata": {},
   "outputs": [],
   "source": [
    "from sklearn.decomposition import PCA"
   ]
  },
  {
   "cell_type": "code",
   "execution_count": 20,
   "id": "bc5347c3",
   "metadata": {},
   "outputs": [],
   "source": [
    "def pca_and_logistic_regression_l2(num_pc, train_X, train_y, test_X, test_y):\n",
    "    pca = PCA(n_components=256)\n",
    "    pca.fit(train_X)\n",
    "\n",
    "    pca_train_X = pca.transform(train_X)\n",
    "    pca_test_X = pca.transform(test_X)\n",
    "\n",
    "    # 使用前 num_pc 个主成分\n",
    "    pca_train_X = pca_train_X[:, :num_pc]\n",
    "    pca_test_X = pca_test_X[:, :num_pc]\n",
    "\n",
    "    # 用岭回归拟合一个多元逻辑回归模型\n",
    "    model_P4 = LR(penalty='l2', solver='lbfgs', multi_class='multinomial')\n",
    "\n",
    "    # 生成一系列C值\n",
    "    values_C = np.logspace(-5, 5, 100)\n",
    "\n",
    "    tuned_parameters = [{'C': values_C}]\n",
    "    # 十折交叉验证\n",
    "    n_folds = 10\n",
    "\n",
    "    clf = GridSearchCV(model_P4, tuned_parameters, cv=n_folds, refit=False, scoring='accuracy')\n",
    "    clf.fit(pca_train_X, train_y)\n",
    "\n",
    "    scores = clf.cv_results_['mean_test_score']\n",
    "\n",
    "\n",
    "    # 取对数\n",
    "    log_C = np.log10(values_C)\n",
    "\n",
    "    # 画图\n",
    "    plt.figure().set_size_inches(8, 6)\n",
    "    plt.plot(log_C, scores)\n",
    "    plt.ylabel('accuracy')\n",
    "    plt.xlabel('log(C)')\n",
    "    plt.axhline(np.max(scores), linestyle='--', color='.5')\n",
    "    plt.xlim([log_C[0], log_C[-1]])\n",
    "    plt.show()\n",
    "\n",
    "    # # 打印最佳参数\n",
    "    # print(clf.best_params_)\n",
    "\n",
    "    C_min = clf.best_params_['C']\n",
    "    print(f\"C_min={C_min}\")\n",
    "\n",
    "    model_P4 = LR(penalty='l2', solver='lbfgs', multi_class='multinomial', C=C_min)\n",
    "    model_P4.fit(pca_train_X, train_y)\n",
    "\n",
    "    accuracy_train = model_P4.score(pca_train_X, train_y)\n",
    "    accuracy_test = model_P4.score(pca_test_X, test_y)\n",
    "\n",
    "    print(f\"训练集上预测精度：{accuracy_train}\")\n",
    "    print(f\"测试集上预测精度：{accuracy_test}\")\n",
    "    "
   ]
  },
  {
   "cell_type": "code",
   "execution_count": 21,
   "id": "adea87bd",
   "metadata": {},
   "outputs": [
    {
     "data": {
      "image/png": "[encoded data removed]",
      "text/plain": [
       "<Figure size 800x600 with 1 Axes>"
      ]
     },
     "metadata": {},
     "output_type": "display_data"
    },
    {
     "name": "stdout",
     "output_type": "stream",
     "text": [
      "C_min=0.10974987654930568\n",
      "训练集上预测精度：0.945054945054945\n",
      "测试集上预测精度：0.8647798742138365\n"
     ]
    }
   ],
   "source": [
    "# 使用前30个主成分\n",
    "pca_and_logistic_regression_l2(30, train_X, train_y, test_X, test_y)"
   ]
  },
  {
   "cell_type": "markdown",
   "id": "452f2ab2",
   "metadata": {},
   "source": [
    "- 使用前30个主成分，获得的C_min数值与第三部分中相同\n",
    "- 训练集上和测试集上预测精度均小于第三部分中训练结果\n",
    "    - 这是因为只使用了前30个主成分，自变量中包含的部分信息未参与模型训练及预测过程"
   ]
  },
  {
   "cell_type": "markdown",
   "id": "40812ef5",
   "metadata": {},
   "source": [
    "### (3)"
   ]
  },
  {
   "cell_type": "code",
   "execution_count": 22,
   "id": "99d8a612",
   "metadata": {},
   "outputs": [
    {
     "data": {
      "image/png": "[encoded data removed]",
      "text/plain": [
       "<Figure size 800x600 with 1 Axes>"
      ]
     },
     "metadata": {},
     "output_type": "display_data"
    },
    {
     "name": "stdout",
     "output_type": "stream",
     "text": [
      "C_min=0.22051307399030456\n",
      "训练集上预测精度：0.9858712715855573\n",
      "测试集上预测精度：0.9025157232704403\n"
     ]
    }
   ],
   "source": [
    "# 使用前50个主成分\n",
    "pca_and_logistic_regression_l2(50, train_X, train_y, test_X, test_y)"
   ]
  },
  {
   "cell_type": "markdown",
   "id": "36cc10ae",
   "metadata": {},
   "source": [
    "- 使用前50个主成分时，获得的C_min数值增大\n",
    "- 相比于使用前30个主成分，在训练集上预测精度增大，但小于第三部分中模型的训练集上预测精度\n",
    "    - 相比于使用前30个主成分，其中包含的自变量信息更多，所以在训练集上预测精度更大\n",
    "    - 相比于第三部分中模型，其中包含自变量信息更少，所以在训练集上预测精度更小\n",
    "- 相比于使用前30个主成分的模型和第三部分中的模型，在测试集上预测精度增大\n",
    "    - 相比于第三部分中模型，此模型在测试集上预测精度更大，可能是因为此模型使用的自变量经过了主成分分析增强了泛化能力，且能更好地捕捉数据分布"
   ]
  },
  {
   "cell_type": "markdown",
   "id": "579690bb",
   "metadata": {},
   "source": [
    "## 进一步探究\n",
    "由于好奇C_min数值变化规律，下面对C_min随主成分个数变化作图并分析"
   ]
  },
  {
   "cell_type": "code",
   "execution_count": null,
   "id": "a6ff4eb5",
   "metadata": {},
   "outputs": [],
   "source": [
    "def pca_and_lr_without_fig(num_pc, train_X, train_y, test_X, test_y):\n",
    "    pca = PCA(n_components=256)\n",
    "    pca.fit(train_X)\n",
    "\n",
    "    pca_train_X = pca.transform(train_X)\n",
    "    pca_test_X = pca.transform(test_X)\n",
    "\n",
    "    # 使用前 num_pc 个主成分\n",
    "    pca_train_X = pca_train_X[:, :num_pc]\n",
    "    pca_test_X = pca_test_X[:, :num_pc]\n",
    "\n",
    "    # 用岭回归拟合一个多元逻辑回归模型\n",
    "    model_P4 = LR(penalty='l2', solver='lbfgs', multi_class='multinomial')\n",
    "\n",
    "    # 生成一系列C值\n",
    "    values_C = np.logspace(-5, 5, 100)\n",
    "\n",
    "    tuned_parameters = [{'C': values_C}]\n",
    "    # 十折交叉验证\n",
    "    n_folds = 10\n",
    "\n",
    "    clf = GridSearchCV(model_P4, tuned_parameters, cv=n_folds, refit=False, scoring='accuracy')\n",
    "    clf.fit(pca_train_X, train_y)\n",
    "\n",
    "    C_min = clf.best_params_['C']\n",
    "    print(f\"num_pc={num_pc}, C_min={C_min}\")\n",
    "\n",
    "    return C_min"
   ]
  },
  {
   "cell_type": "code",
   "execution_count": 24,
   "id": "30e61c21",
   "metadata": {},
   "outputs": [
    {
     "name": "stdout",
     "output_type": "stream",
     "text": [
      "num_pc=1, C_min=0.03430469286314919\n",
      "num_pc=2, C_min=0.7054802310718645\n",
      "num_pc=3, C_min=7.220809018385457\n",
      "num_pc=4, C_min=11.497569953977356\n",
      "num_pc=5, C_min=0.10974987654930568\n",
      "num_pc=6, C_min=0.22051307399030456\n",
      "num_pc=7, C_min=1.4174741629268048\n",
      "num_pc=8, C_min=0.7054802310718645\n",
      "num_pc=9, C_min=1.1233240329780265\n",
      "num_pc=10, C_min=9.111627561154886\n",
      "num_pc=11, C_min=0.3511191734215127\n",
      "num_pc=12, C_min=0.1747528400007683\n",
      "num_pc=13, C_min=0.13848863713938717\n",
      "num_pc=14, C_min=0.22051307399030456\n",
      "num_pc=15, C_min=0.13848863713938717\n",
      "num_pc=16, C_min=0.06892612104349695\n",
      "num_pc=17, C_min=0.08697490026177834\n",
      "num_pc=18, C_min=0.04328761281083057\n",
      "num_pc=19, C_min=0.05462277217684343\n",
      "num_pc=20, C_min=0.10974987654930568\n",
      "num_pc=21, C_min=0.13848863713938717\n",
      "num_pc=22, C_min=0.13848863713938717\n",
      "num_pc=23, C_min=0.13848863713938717\n",
      "num_pc=24, C_min=0.10974987654930568\n",
      "num_pc=25, C_min=0.08697490026177834\n",
      "num_pc=26, C_min=0.13848863713938717\n",
      "num_pc=27, C_min=0.13848863713938717\n",
      "num_pc=28, C_min=0.10974987654930568\n",
      "num_pc=29, C_min=0.13848863713938717\n",
      "num_pc=30, C_min=0.10974987654930568\n",
      "num_pc=31, C_min=0.1747528400007683\n",
      "num_pc=32, C_min=0.05462277217684343\n",
      "num_pc=33, C_min=0.08697490026177834\n",
      "num_pc=34, C_min=0.22051307399030456\n",
      "num_pc=35, C_min=0.44306214575838776\n",
      "num_pc=36, C_min=0.08697490026177834\n",
      "num_pc=37, C_min=0.06892612104349695\n",
      "num_pc=38, C_min=0.06892612104349695\n",
      "num_pc=39, C_min=0.13848863713938717\n",
      "num_pc=40, C_min=0.13848863713938717\n",
      "num_pc=41, C_min=0.1747528400007683\n",
      "num_pc=42, C_min=0.2782559402207126\n",
      "num_pc=43, C_min=0.2782559402207126\n",
      "num_pc=44, C_min=0.13848863713938717\n",
      "num_pc=45, C_min=0.22051307399030456\n",
      "num_pc=46, C_min=0.2782559402207126\n",
      "num_pc=47, C_min=0.3511191734215127\n",
      "num_pc=48, C_min=0.2782559402207126\n",
      "num_pc=49, C_min=0.3511191734215127\n",
      "num_pc=50, C_min=0.22051307399030456\n",
      "num_pc=51, C_min=0.44306214575838776\n",
      "num_pc=52, C_min=0.08697490026177834\n",
      "num_pc=53, C_min=0.1747528400007683\n",
      "num_pc=54, C_min=0.08697490026177834\n",
      "num_pc=55, C_min=0.08697490026177834\n",
      "num_pc=56, C_min=0.08697490026177834\n",
      "num_pc=57, C_min=0.08697490026177834\n",
      "num_pc=58, C_min=0.08697490026177834\n",
      "num_pc=59, C_min=0.10974987654930568\n",
      "num_pc=60, C_min=0.06892612104349695\n",
      "num_pc=61, C_min=0.08697490026177834\n",
      "num_pc=62, C_min=0.13848863713938717\n",
      "num_pc=63, C_min=0.10974987654930568\n",
      "num_pc=64, C_min=0.22051307399030456\n",
      "num_pc=65, C_min=0.10974987654930568\n",
      "num_pc=66, C_min=0.10974987654930568\n",
      "num_pc=67, C_min=0.13848863713938717\n",
      "num_pc=68, C_min=0.13848863713938717\n",
      "num_pc=69, C_min=0.13848863713938717\n",
      "num_pc=70, C_min=0.10974987654930568\n",
      "num_pc=71, C_min=0.10974987654930568\n",
      "num_pc=72, C_min=0.10974987654930568\n",
      "num_pc=73, C_min=0.10974987654930568\n",
      "num_pc=74, C_min=0.13848863713938717\n",
      "num_pc=75, C_min=0.10974987654930568\n",
      "num_pc=76, C_min=0.10974987654930568\n",
      "num_pc=77, C_min=0.10974987654930568\n",
      "num_pc=78, C_min=0.13848863713938717\n",
      "num_pc=79, C_min=0.06892612104349695\n",
      "num_pc=80, C_min=0.08697490026177834\n",
      "num_pc=81, C_min=0.06892612104349695\n",
      "num_pc=82, C_min=0.08697490026177834\n",
      "num_pc=83, C_min=0.08697490026177834\n",
      "num_pc=84, C_min=0.08697490026177834\n",
      "num_pc=85, C_min=0.06892612104349695\n",
      "num_pc=86, C_min=0.06892612104349695\n",
      "num_pc=87, C_min=0.10974987654930568\n",
      "num_pc=88, C_min=0.10974987654930568\n",
      "num_pc=89, C_min=0.10974987654930568\n",
      "num_pc=90, C_min=0.10974987654930568\n",
      "num_pc=91, C_min=0.08697490026177834\n",
      "num_pc=92, C_min=0.10974987654930568\n",
      "num_pc=93, C_min=0.10974987654930568\n",
      "num_pc=94, C_min=0.05462277217684343\n",
      "num_pc=95, C_min=0.06892612104349695\n",
      "num_pc=96, C_min=0.05462277217684343\n",
      "num_pc=97, C_min=0.05462277217684343\n",
      "num_pc=98, C_min=0.06892612104349695\n",
      "num_pc=99, C_min=0.06892612104349695\n",
      "num_pc=100, C_min=0.06892612104349695\n",
      "num_pc=101, C_min=0.08697490026177834\n",
      "num_pc=102, C_min=0.06892612104349695\n",
      "num_pc=103, C_min=0.06892612104349695\n",
      "num_pc=104, C_min=0.08697490026177834\n",
      "num_pc=105, C_min=0.08697490026177834\n",
      "num_pc=106, C_min=0.06892612104349695\n",
      "num_pc=107, C_min=0.1747528400007683\n",
      "num_pc=108, C_min=0.06892612104349695\n",
      "num_pc=109, C_min=0.08697490026177834\n",
      "num_pc=110, C_min=0.06892612104349695\n",
      "num_pc=111, C_min=0.06892612104349695\n",
      "num_pc=112, C_min=0.08697490026177834\n",
      "num_pc=113, C_min=0.06892612104349695\n",
      "num_pc=114, C_min=0.08697490026177834\n",
      "num_pc=115, C_min=0.06892612104349695\n",
      "num_pc=116, C_min=0.06892612104349695\n",
      "num_pc=117, C_min=0.06892612104349695\n",
      "num_pc=118, C_min=0.06892612104349695\n",
      "num_pc=119, C_min=0.10974987654930568\n",
      "num_pc=120, C_min=0.06892612104349695\n",
      "num_pc=121, C_min=0.06892612104349695\n",
      "num_pc=122, C_min=0.06892612104349695\n",
      "num_pc=123, C_min=0.10974987654930568\n",
      "num_pc=124, C_min=0.06892612104349695\n",
      "num_pc=125, C_min=0.08697490026177834\n",
      "num_pc=126, C_min=0.08697490026177834\n",
      "num_pc=127, C_min=0.08697490026177834\n",
      "num_pc=128, C_min=0.08697490026177834\n",
      "num_pc=129, C_min=0.08697490026177834\n",
      "num_pc=130, C_min=0.08697490026177834\n",
      "num_pc=131, C_min=0.06892612104349695\n",
      "num_pc=132, C_min=0.08697490026177834\n",
      "num_pc=133, C_min=0.08697490026177834\n",
      "num_pc=134, C_min=0.08697490026177834\n",
      "num_pc=135, C_min=0.08697490026177834\n",
      "num_pc=136, C_min=0.10974987654930568\n",
      "num_pc=137, C_min=0.10974987654930568\n",
      "num_pc=138, C_min=0.10974987654930568\n",
      "num_pc=139, C_min=0.08697490026177834\n",
      "num_pc=140, C_min=0.08697490026177834\n",
      "num_pc=141, C_min=0.10974987654930568\n",
      "num_pc=142, C_min=0.08697490026177834\n",
      "num_pc=143, C_min=0.08697490026177834\n",
      "num_pc=144, C_min=0.08697490026177834\n",
      "num_pc=145, C_min=0.13848863713938717\n",
      "num_pc=146, C_min=0.13848863713938717\n",
      "num_pc=147, C_min=0.13848863713938717\n",
      "num_pc=148, C_min=0.10974987654930568\n",
      "num_pc=149, C_min=0.10974987654930568\n",
      "num_pc=150, C_min=0.10974987654930568\n",
      "num_pc=151, C_min=0.10974987654930568\n",
      "num_pc=152, C_min=0.10974987654930568\n",
      "num_pc=153, C_min=0.10974987654930568\n",
      "num_pc=154, C_min=0.10974987654930568\n",
      "num_pc=155, C_min=0.10974987654930568\n",
      "num_pc=156, C_min=0.10974987654930568\n",
      "num_pc=157, C_min=0.10974987654930568\n",
      "num_pc=158, C_min=0.10974987654930568\n",
      "num_pc=159, C_min=0.10974987654930568\n",
      "num_pc=160, C_min=0.10974987654930568\n",
      "num_pc=161, C_min=0.10974987654930568\n",
      "num_pc=162, C_min=0.10974987654930568\n",
      "num_pc=163, C_min=0.10974987654930568\n",
      "num_pc=164, C_min=0.06892612104349695\n",
      "num_pc=165, C_min=0.06892612104349695\n",
      "num_pc=166, C_min=0.10974987654930568\n",
      "num_pc=167, C_min=0.10974987654930568\n",
      "num_pc=168, C_min=0.10974987654930568\n",
      "num_pc=169, C_min=0.10974987654930568\n",
      "num_pc=170, C_min=0.10974987654930568\n",
      "num_pc=171, C_min=0.10974987654930568\n",
      "num_pc=172, C_min=0.10974987654930568\n",
      "num_pc=173, C_min=0.10974987654930568\n",
      "num_pc=174, C_min=0.10974987654930568\n",
      "num_pc=175, C_min=0.10974987654930568\n",
      "num_pc=176, C_min=0.10974987654930568\n",
      "num_pc=177, C_min=0.10974987654930568\n",
      "num_pc=178, C_min=0.10974987654930568\n",
      "num_pc=179, C_min=0.10974987654930568\n",
      "num_pc=180, C_min=0.10974987654930568\n",
      "num_pc=181, C_min=0.10974987654930568\n",
      "num_pc=182, C_min=0.10974987654930568\n",
      "num_pc=183, C_min=0.10974987654930568\n",
      "num_pc=184, C_min=0.10974987654930568\n",
      "num_pc=185, C_min=0.10974987654930568\n",
      "num_pc=186, C_min=0.10974987654930568\n",
      "num_pc=187, C_min=0.10974987654930568\n",
      "num_pc=188, C_min=0.10974987654930568\n",
      "num_pc=189, C_min=0.10974987654930568\n",
      "num_pc=190, C_min=0.13848863713938717\n",
      "num_pc=191, C_min=0.13848863713938717\n",
      "num_pc=192, C_min=0.13848863713938717\n",
      "num_pc=193, C_min=0.13848863713938717\n",
      "num_pc=194, C_min=0.13848863713938717\n",
      "num_pc=195, C_min=0.10974987654930568\n",
      "num_pc=196, C_min=0.13848863713938717\n",
      "num_pc=197, C_min=0.13848863713938717\n",
      "num_pc=198, C_min=0.13848863713938717\n",
      "num_pc=199, C_min=0.10974987654930568\n",
      "num_pc=200, C_min=0.10974987654930568\n",
      "num_pc=201, C_min=0.10974987654930568\n",
      "num_pc=202, C_min=0.10974987654930568\n",
      "num_pc=203, C_min=0.10974987654930568\n",
      "num_pc=204, C_min=0.10974987654930568\n",
      "num_pc=205, C_min=0.10974987654930568\n",
      "num_pc=206, C_min=0.10974987654930568\n",
      "num_pc=207, C_min=0.10974987654930568\n",
      "num_pc=208, C_min=0.10974987654930568\n",
      "num_pc=209, C_min=0.08697490026177834\n",
      "num_pc=210, C_min=0.08697490026177834\n",
      "num_pc=211, C_min=0.08697490026177834\n",
      "num_pc=212, C_min=0.10974987654930568\n",
      "num_pc=213, C_min=0.10974987654930568\n",
      "num_pc=214, C_min=0.10974987654930568\n",
      "num_pc=215, C_min=0.13848863713938717\n",
      "num_pc=216, C_min=0.13848863713938717\n",
      "num_pc=217, C_min=0.13848863713938717\n",
      "num_pc=218, C_min=0.13848863713938717\n",
      "num_pc=219, C_min=0.13848863713938717\n",
      "num_pc=220, C_min=0.13848863713938717\n",
      "num_pc=221, C_min=0.13848863713938717\n",
      "num_pc=222, C_min=0.13848863713938717\n",
      "num_pc=223, C_min=0.13848863713938717\n",
      "num_pc=224, C_min=0.13848863713938717\n",
      "num_pc=225, C_min=0.13848863713938717\n",
      "num_pc=226, C_min=0.13848863713938717\n",
      "num_pc=227, C_min=0.13848863713938717\n",
      "num_pc=228, C_min=0.13848863713938717\n",
      "num_pc=229, C_min=0.13848863713938717\n",
      "num_pc=230, C_min=0.13848863713938717\n",
      "num_pc=231, C_min=0.13848863713938717\n",
      "num_pc=232, C_min=0.13848863713938717\n",
      "num_pc=233, C_min=0.13848863713938717\n",
      "num_pc=234, C_min=0.13848863713938717\n",
      "num_pc=235, C_min=0.13848863713938717\n",
      "num_pc=236, C_min=0.10974987654930568\n",
      "num_pc=237, C_min=0.08697490026177834\n",
      "num_pc=238, C_min=0.08697490026177834\n",
      "num_pc=239, C_min=0.08697490026177834\n",
      "num_pc=240, C_min=0.08697490026177834\n",
      "num_pc=241, C_min=0.08697490026177834\n",
      "num_pc=242, C_min=0.08697490026177834\n",
      "num_pc=243, C_min=0.08697490026177834\n",
      "num_pc=244, C_min=0.08697490026177834\n",
      "num_pc=245, C_min=0.10974987654930568\n",
      "num_pc=246, C_min=0.10974987654930568\n",
      "num_pc=247, C_min=0.10974987654930568\n",
      "num_pc=248, C_min=0.08697490026177834\n",
      "num_pc=249, C_min=0.08697490026177834\n",
      "num_pc=250, C_min=0.08697490026177834\n",
      "num_pc=251, C_min=0.08697490026177834\n",
      "num_pc=252, C_min=0.08697490026177834\n",
      "num_pc=253, C_min=0.10974987654930568\n",
      "num_pc=254, C_min=0.10974987654930568\n",
      "num_pc=255, C_min=0.10974987654930568\n",
      "num_pc=256, C_min=0.10974987654930568\n"
     ]
    },
    {
     "data": {
      "image/png": "[encoded data removed]",
      "text/plain": [
       "<Figure size 800x600 with 1 Axes>"
      ]
     },
     "metadata": {},
     "output_type": "display_data"
    }
   ],
   "source": [
    "num_pc = [i for i in range(1, 257)]\n",
    "values_C_min = []\n",
    "for i in num_pc:\n",
    "    values_C_min.append(pca_and_lr_without_fig(i, train_X, train_y, test_X, test_y))\n",
    "\n",
    "# 作图\n",
    "plt.figure().set_size_inches(8, 6)\n",
    "plt.plot(num_pc, values_C_min)\n",
    "plt.ylabel('C_min')\n",
    "plt.xlabel('number of pc')\n",
    "plt.axhline(np.max(values_C_min), linestyle='--', color='.5')\n",
    "plt.xlim([num_pc[0], num_pc[-1]])\n",
    "plt.show()"
   ]
  },
  {
   "cell_type": "markdown",
   "id": "e7c2a97b",
   "metadata": {},
   "source": [
    "- 当主成分个数较少时C较大，主成分个数较多时C较小\n",
    "    - 主成分个数较少时过拟合风险相对较小，取较大的C以控制较小的正则化力度，个数较多时与此相反\n",
    "- 在Part IV 中，选取30个主成分时C_min数值比选取50个主成分时更小，意味着此时正则化力度更大，有点和分析相矛盾\n",
    "    - 可能是主成分个数从30增加到50左右时，后面的主成分包含一些细节信息，模型需要这些信息以取得更好表现，所以降低了惩罚幅度\n",
    "    - 可能随着主成分个数从30增加到50左右，数据的分布和特征发生变化，选取的C值随之改变"
   ]
  }
 ],
 "metadata": {
  "kernelspec": {
   "display_name": "regressionAnalysis",
   "language": "python",
   "name": "python3"
  },
  "language_info": {
   "codemirror_mode": {
    "name": "ipython",
    "version": 3
   },
   "file_extension": ".py",
   "mimetype": "text/x-python",
   "name": "python",
   "nbconvert_exporter": "python",
   "pygments_lexer": "ipython3",
   "version": "3.13.3"
  }
 },
 "nbformat": 4,
 "nbformat_minor": 5
}
