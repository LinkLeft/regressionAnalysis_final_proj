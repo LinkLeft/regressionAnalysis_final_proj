{
 "cells": [
  {
   "cell_type": "code",
   "execution_count": null,
   "id": "d3d5a279",
   "metadata": {},
   "outputs": [],
   "source": [
    "from dataProcessing import DataProcessing\n",
    "from dataProcessing import createSolution\n",
    "from drawFigures import DrawFigures\n",
    "from models import Models"
   ]
  },
  {
   "cell_type": "markdown",
   "id": "8dd7f3c4",
   "metadata": {},
   "source": [
    "## 数据处理"
   ]
  },
  {
   "cell_type": "code",
   "execution_count": null,
   "id": "1bf91a82",
   "metadata": {},
   "outputs": [],
   "source": [
    "dp = DataProcessing('train.csv', 'test.csv')\n",
    "\n",
    "# 读取数据\n",
    "X_train, y_train, X_test = dp.readData()\n",
    "# 对X44，X45进行KNN插值\n",
    "X_train, X_test = dp.impute_KNN(X_train, X_test, n_neighbors=5)\n",
    "# 对"
   ]
  },
  {
   "cell_type": "markdown",
   "id": "601cf94c",
   "metadata": {},
   "source": [
    "## 作图"
   ]
  },
  {
   "cell_type": "markdown",
   "id": "447a62cc",
   "metadata": {},
   "source": [
    "## 模型训练"
   ]
  },
  {
   "cell_type": "markdown",
   "id": "e5973c09",
   "metadata": {},
   "source": [
    "## 生成结果"
   ]
  }
 ],
 "metadata": {
  "kernelspec": {
   "display_name": "regressionAnalysis",
   "language": "python",
   "name": "python3"
  },
  "language_info": {
   "name": "python",
   "version": "3.13.3"
  }
 },
 "nbformat": 4,
 "nbformat_minor": 5
}
